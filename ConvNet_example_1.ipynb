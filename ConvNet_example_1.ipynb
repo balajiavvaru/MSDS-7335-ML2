{
 "cells": [
  {
   "cell_type": "code",
   "execution_count": 1,
   "metadata": {
    "id": "5SaE2zTUUqS4"
   },
   "outputs": [],
   "source": [
    "import numpy as np\n",
    "from sklearn.utils import shuffle\n",
    "from sklearn.metrics import accuracy_score\n",
    "import matplotlib.pyplot as plt\n",
    "\n",
    "import tensorflow as tf\n",
    "from tensorflow import keras\n",
    "from tensorflow.keras import Sequential"
   ]
  },
  {
   "cell_type": "markdown",
   "metadata": {
    "id": "6s3AdZslYqS-"
   },
   "source": [
    "## Import the Dataset\n",
    "\n",
    "Import the dataset and look at some examples.\n",
    "\n",
    "The MNIST dataset consists of handwritten digits (0-9).\n",
    "Pixel values are from 0 to 255."
   ]
  },
  {
   "cell_type": "code",
   "execution_count": 2,
   "metadata": {
    "colab": {
     "base_uri": "https://localhost:8080/"
    },
    "id": "qbK3BNTsVSy3",
    "outputId": "f8bf0218-13a8-4082-ddef-52ab5a50255c"
   },
   "outputs": [],
   "source": [
    "# load in the dataset\n",
    "(x_train, y_train), (x_test, y_test) = keras.datasets.mnist.load_data()"
   ]
  },
  {
   "cell_type": "code",
   "execution_count": 3,
   "metadata": {
    "colab": {
     "base_uri": "https://localhost:8080/"
    },
    "id": "Gd0TCIllZJDw",
    "outputId": "4d04326e-8777-4544-f9fc-732981846016"
   },
   "outputs": [
    {
     "data": {
      "text/plain": [
       "numpy.ndarray"
      ]
     },
     "execution_count": 3,
     "metadata": {},
     "output_type": "execute_result"
    }
   ],
   "source": [
    "# note that these are just numpy arrays\n",
    "type(x_train)"
   ]
  },
  {
   "cell_type": "code",
   "execution_count": 4,
   "metadata": {
    "colab": {
     "base_uri": "https://localhost:8080/"
    },
    "id": "lFkzELJ2ZQOc",
    "outputId": "79d69678-5eac-47d2-f8a0-8f0450c9ce55"
   },
   "outputs": [
    {
     "name": "stdout",
     "output_type": "stream",
     "text": [
      "(60000, 28, 28)\n"
     ]
    }
   ],
   "source": [
    "# the x training data is 60,000 examples of 28x28 images\n",
    "print(x_train.shape)"
   ]
  },
  {
   "cell_type": "code",
   "execution_count": 5,
   "metadata": {
    "colab": {
     "base_uri": "https://localhost:8080/"
    },
    "id": "QR1nQl_9ZS5D",
    "outputId": "f4c68086-7d6a-4a45-fb8b-ca78c53601d4"
   },
   "outputs": [
    {
     "name": "stdout",
     "output_type": "stream",
     "text": [
      "(60000,)\n"
     ]
    }
   ],
   "source": [
    "print(y_train.shape)"
   ]
  },
  {
   "cell_type": "code",
   "execution_count": 6,
   "metadata": {
    "colab": {
     "base_uri": "https://localhost:8080/",
     "height": 586
    },
    "id": "n3k0TcjqYVy9",
    "outputId": "5fe17b34-f37f-438e-bde1-583302c31e29"
   },
   "outputs": [
    {
     "name": "stdout",
     "output_type": "stream",
     "text": [
      "Look at some numbers\n",
      "\n"
     ]
    },
    {
     "data": {
      "image/png": "[encoded data removed]",
      "text/plain": [
       "<Figure size 864x720 with 16 Axes>"
      ]
     },
     "metadata": {
      "needs_background": "light"
     },
     "output_type": "display_data"
    }
   ],
   "source": [
    "# Look at some random numbers\n",
    "X_shuffle = shuffle(x_train.copy(), random_state=42)\n",
    "\n",
    "print('Look at some numbers\\n')\n",
    "plt.figure(figsize = (12,10))\n",
    "row, colums = 4, 4\n",
    "for i in range(16):\n",
    "    plt.subplot(colums, row, i+1)\n",
    "    plt.imshow(X_shuffle[i].reshape(28,28),interpolation='nearest', cmap='Greys')\n",
    "plt.show()"
   ]
  },
  {
   "cell_type": "code",
   "execution_count": 7,
   "metadata": {
    "colab": {
     "base_uri": "https://localhost:8080/"
    },
    "id": "PvOFaz77ZFK-",
    "outputId": "b341a6b4-91cc-4a30-cdbc-ab6000018948"
   },
   "outputs": [
    {
     "data": {
      "text/plain": [
       "255"
      ]
     },
     "execution_count": 7,
     "metadata": {},
     "output_type": "execute_result"
    }
   ],
   "source": [
    "X_shuffle.max()"
   ]
  },
  {
   "cell_type": "markdown",
   "metadata": {
    "id": "xxz1o2JxY1Y_"
   },
   "source": [
    "## Data Preprocessing\n",
    "\n",
    "We need to do the following to preprocess the data:\n",
    "\n",
    "1. Divide the values by the max value (255)\n",
    "2. Add a color channel (require by the convolutional layer)\n",
    "\n",
    "By default Keras assumes images are formatted as (number of examples, x-dim, y-dim, number of colors)\n",
    "\n",
    "An RGB image has 3 color channels, greyscale as 1 color channel"
   ]
  },
  {
   "cell_type": "code",
   "execution_count": 8,
   "metadata": {
    "id": "uW3fu8FZYgWR"
   },
   "outputs": [],
   "source": [
    "# divide by the color channel\n",
    "x_train = x_train / 255.\n",
    "x_test = x_test / 255."
   ]
  },
  {
   "cell_type": "code",
   "execution_count": 9,
   "metadata": {
    "id": "3qtGDOm-abZC"
   },
   "outputs": [],
   "source": [
    "# add the color channel\n",
    "x_train = x_train.reshape(x_train.shape + (1,))\n",
    "x_test = x_test.reshape(x_test.shape + (1,))"
   ]
  },
  {
   "cell_type": "markdown",
   "metadata": {
    "id": "Dt8luNRWcXhb"
   },
   "source": [
    "## Setup the Model\n",
    "\n",
    "This is a very basic convolutional network.\n",
    "There are essentially two sections\n",
    "1. convolutional feature extraction layers\n",
    "2. dense (fully-connected) classifier layers"
   ]
  },
  {
   "cell_type": "code",
   "execution_count": 10,
   "metadata": {
    "id": "Ygg2sWOBbE6f"
   },
   "outputs": [],
   "source": [
    "num_classes=10\n",
    "filters=32\n",
    "pool_size=2\n",
    "kernel_size=3\n",
    "dropout=0.2\n",
    "input_shape = (28,28,1)\n",
    "\n",
    "model = Sequential([\n",
    "      # convolutional feature extraction\n",
    "      # ConvNet 1\n",
    "      keras.layers.Conv2D(filters, kernel_size, padding = 'valid',\n",
    "              activation='relu',\n",
    "              input_shape=input_shape),\n",
    "      keras.layers.MaxPooling2D(pool_size=pool_size),\n",
    "\n",
    "      # ConvNet 2\n",
    "      keras.layers.Conv2D(filters, kernel_size,\n",
    "              padding = 'valid',\n",
    "              activation='relu'),\n",
    "      keras.layers.MaxPooling2D(pool_size=pool_size),\n",
    "\n",
    "      # classification \n",
    "      # will retrain from here\n",
    "      keras.layers.Flatten(name='flatten'),\n",
    "\n",
    "      keras.layers.Dropout(dropout),\n",
    "      keras.layers.Dense(128, activation='relu'),\n",
    "      \n",
    "      keras.layers.Dropout(dropout, name='penult'),\n",
    "      keras.layers.Dense(num_classes, activation='softmax', name='last')\n",
    "  ])"
   ]
  },
  {
   "cell_type": "code",
   "execution_count": 11,
   "metadata": {
    "colab": {
     "base_uri": "https://localhost:8080/"
    },
    "id": "CQZPYgJgcFOt",
    "outputId": "d07a4d1d-eb58-4c23-b9ac-7fcbd651a508"
   },
   "outputs": [
    {
     "name": "stdout",
     "output_type": "stream",
     "text": [
      "Model: \"sequential\"\n",
      "_________________________________________________________________\n",
      "Layer (type)                 Output Shape              Param #   \n",
      "=================================================================\n",
      "conv2d (Conv2D)              (None, 26, 26, 32)        320       \n",
      "_________________________________________________________________\n",
      "max_pooling2d (MaxPooling2D) (None, 13, 13, 32)        0         \n",
      "_________________________________________________________________\n",
      "conv2d_1 (Conv2D)            (None, 11, 11, 32)        9248      \n",
      "_________________________________________________________________\n",
      "max_pooling2d_1 (MaxPooling2 (None, 5, 5, 32)          0         \n",
      "_________________________________________________________________\n",
      "flatten (Flatten)            (None, 800)               0         \n",
      "_________________________________________________________________\n",
      "dropout (Dropout)            (None, 800)               0         \n",
      "_________________________________________________________________\n",
      "dense (Dense)                (None, 128)               102528    \n",
      "_________________________________________________________________\n",
      "penult (Dropout)             (None, 128)               0         \n",
      "_________________________________________________________________\n",
      "last (Dense)                 (None, 10)                1290      \n",
      "=================================================================\n",
      "Total params: 113,386\n",
      "Trainable params: 113,386\n",
      "Non-trainable params: 0\n",
      "_________________________________________________________________\n"
     ]
    }
   ],
   "source": [
    "# print summary of model as check\n",
    "model.summary()"
   ]
  },
  {
   "cell_type": "code",
   "execution_count": 12,
   "metadata": {
    "colab": {
     "base_uri": "https://localhost:8080/",
     "height": 552
    },
    "id": "996Wn3Vlb8QJ",
    "outputId": "46894abd-ff48-48ff-99d0-b4098a8ea730"
   },
   "outputs": [
    {
     "name": "stdout",
     "output_type": "stream",
     "text": [
      "('Failed to import pydot. You must `pip install pydot` and install graphviz (https://graphviz.gitlab.io/download/), ', 'for `pydotprint` to work.')\n"
     ]
    }
   ],
   "source": [
    "# print image of model as check\n",
    "keras.utils.plot_model(model, show_shapes=True, dpi=48)"
   ]
  },
  {
   "cell_type": "code",
   "execution_count": 13,
   "metadata": {
    "id": "8efbeVFKdiYK"
   },
   "outputs": [],
   "source": [
    "es = keras.callbacks.EarlyStopping(min_delta=0.001, patience=2)"
   ]
  },
  {
   "cell_type": "code",
   "execution_count": 14,
   "metadata": {
    "colab": {
     "base_uri": "https://localhost:8080/"
    },
    "id": "liTa1sVnoGy3",
    "outputId": "de5a8e95-c160-4d9c-d89c-c6f248b8d551"
   },
   "outputs": [
    {
     "data": {
      "text/plain": [
       "array([5, 0, 4, ..., 5, 6, 8], dtype=uint8)"
      ]
     },
     "execution_count": 14,
     "metadata": {},
     "output_type": "execute_result"
    }
   ],
   "source": [
    "y_train"
   ]
  },
  {
   "cell_type": "code",
   "execution_count": 15,
   "metadata": {
    "colab": {
     "base_uri": "https://localhost:8080/"
    },
    "id": "X2GOOkcLbX--",
    "outputId": "a95b056d-bfbd-4a4b-bca2-d6bac6c0b052"
   },
   "outputs": [
    {
     "name": "stdout",
     "output_type": "stream",
     "text": [
      "Epoch 1/1000\n",
      "1500/1500 [==============================] - 39s 25ms/step - loss: 0.4359 - accuracy: 0.8614 - val_loss: 0.0571 - val_accuracy: 0.9837\n",
      "Epoch 2/1000\n",
      "1500/1500 [==============================] - 35s 23ms/step - loss: 0.0756 - accuracy: 0.9756 - val_loss: 0.0426 - val_accuracy: 0.9875\n",
      "Epoch 3/1000\n",
      "1500/1500 [==============================] - 35s 24ms/step - loss: 0.0550 - accuracy: 0.9824 - val_loss: 0.0382 - val_accuracy: 0.9890\n",
      "Epoch 4/1000\n",
      "1500/1500 [==============================] - 35s 23ms/step - loss: 0.0434 - accuracy: 0.9865 - val_loss: 0.0341 - val_accuracy: 0.9902\n",
      "Epoch 5/1000\n",
      "1500/1500 [==============================] - 35s 24ms/step - loss: 0.0362 - accuracy: 0.9888 - val_loss: 0.0325 - val_accuracy: 0.9911\n",
      "Epoch 6/1000\n",
      "1500/1500 [==============================] - 35s 24ms/step - loss: 0.0316 - accuracy: 0.9900 - val_loss: 0.0370 - val_accuracy: 0.9909\n",
      "Epoch 7/1000\n",
      "1500/1500 [==============================] - 36s 24ms/step - loss: 0.0260 - accuracy: 0.9911 - val_loss: 0.0408 - val_accuracy: 0.9883\n"
     ]
    }
   ],
   "source": [
    "model.compile(loss='sparse_categorical_crossentropy',\n",
    "                      optimizer='adam',\n",
    "                      metrics=['accuracy'])\n",
    "\n",
    "history = model.fit(x_train,y_train,\n",
    "                    validation_split=0.2,\n",
    "                    batch_size=32,\n",
    "                    epochs=1000,\n",
    "                    callbacks=[es])"
   ]
  },
  {
   "cell_type": "code",
   "execution_count": 16,
   "metadata": {
    "id": "OEZyjmR7b0aS"
   },
   "outputs": [],
   "source": [
    "def plot_training_curves(history, title=None):\n",
    "    ''' Plot the training curves for loss and accuracy given a model history\n",
    "    '''\n",
    "    # find the minimum loss epoch\n",
    "    minimum = np.min(history.history['val_loss'])\n",
    "    min_loc = np.where(minimum == history.history['val_loss'])[0]\n",
    "    # get the vline y-min and y-max\n",
    "    loss_min, loss_max = (min(history.history['val_loss'] + history.history['loss']),\n",
    "                          max(history.history['val_loss'] + history.history['loss']))\n",
    "    acc_min, acc_max = (min(history.history['val_accuracy'] + history.history['accuracy']),\n",
    "                        max(history.history['val_accuracy'] + history.history['accuracy']))\n",
    "    # create figure\n",
    "    fig, ax = plt.subplots(ncols=2, figsize = (15,7))\n",
    "    fig.suptitle(title)\n",
    "    index = np.arange(1, len(history.history['accuracy']) + 1)\n",
    "    # plot the loss and validation loss\n",
    "    ax[0].plot(index, history.history['loss'], label = 'loss')\n",
    "    ax[0].plot(index, history.history['val_loss'], label = 'val_loss')\n",
    "    ax[0].vlines(min_loc + 1, loss_min, loss_max, label = 'min_loss_location')\n",
    "    ax[0].set_title('Loss')\n",
    "    ax[0].set_ylabel('Loss')\n",
    "    ax[0].set_xlabel('Epochs')\n",
    "    ax[0].legend()\n",
    "    # plot the accuracy and validation accuracy\n",
    "    ax[1].plot(index, history.history['accuracy'], label = 'accuracy')\n",
    "    ax[1].plot(index, history.history['val_accuracy'], label = 'val_accuracy')\n",
    "    ax[1].vlines(min_loc + 1, acc_min, acc_max, label = 'min_loss_location')\n",
    "    ax[1].set_title('Accuracy')\n",
    "    ax[1].set_ylabel('Accuracy')\n",
    "    ax[1].set_xlabel('Epochs')\n",
    "    ax[1].legend()\n",
    "    plt.show()"
   ]
  },
  {
   "cell_type": "code",
   "execution_count": 17,
   "metadata": {
    "colab": {
     "base_uri": "https://localhost:8080/",
     "height": 458
    },
    "id": "Qfk0LEIKfICa",
    "outputId": "e5cdcfc3-e288-451a-ffe4-cc1f5d3da76d"
   },
   "outputs": [
    {
     "data": {
      "image/png": "[encoded data removed]",
      "text/plain": [
       "<Figure size 1080x504 with 2 Axes>"
      ]
     },
     "metadata": {
      "needs_background": "light"
     },
     "output_type": "display_data"
    }
   ],
   "source": [
    "plot_training_curves(history)"
   ]
  },
  {
   "cell_type": "code",
   "execution_count": 18,
   "metadata": {
    "id": "5HjmvtMhpdO3"
   },
   "outputs": [],
   "source": [
    "# predict using the model\n",
    "preds = model.predict(x_test)"
   ]
  },
  {
   "cell_type": "code",
   "execution_count": 19,
   "metadata": {
    "colab": {
     "base_uri": "https://localhost:8080/"
    },
    "id": "sIxQV5RMrOwM",
    "outputId": "83432f5e-f65d-464e-9fc4-18c0ff8d7023"
   },
   "outputs": [
    {
     "data": {
      "text/plain": [
       "(10000, 28, 28, 1)"
      ]
     },
     "execution_count": 19,
     "metadata": {},
     "output_type": "execute_result"
    }
   ],
   "source": [
    "x_test.shape"
   ]
  },
  {
   "cell_type": "code",
   "execution_count": 20,
   "metadata": {
    "colab": {
     "base_uri": "https://localhost:8080/"
    },
    "id": "H5c-U5UxrHOa",
    "outputId": "22a83589-d3ba-4cbf-f0a8-678d54309757"
   },
   "outputs": [
    {
     "data": {
      "text/plain": [
       "(10000, 10)"
      ]
     },
     "execution_count": 20,
     "metadata": {},
     "output_type": "execute_result"
    }
   ],
   "source": [
    "preds.shape"
   ]
  },
  {
   "cell_type": "code",
   "execution_count": 21,
   "metadata": {
    "colab": {
     "base_uri": "https://localhost:8080/"
    },
    "id": "vHsZTQ7wpeYm",
    "outputId": "1f95f868-15cf-4ee8-eebd-660fa0a94e2e"
   },
   "outputs": [
    {
     "data": {
      "text/plain": [
       "array([3.35114464e-10, 5.50528014e-08, 9.16632757e-07, 3.37572033e-07,\n",
       "       2.11923916e-11, 1.06260285e-10, 7.44207810e-13, 9.99998450e-01,\n",
       "       3.88885102e-09, 2.19733948e-07], dtype=float32)"
      ]
     },
     "execution_count": 21,
     "metadata": {},
     "output_type": "execute_result"
    }
   ],
   "source": [
    "preds[0]"
   ]
  },
  {
   "cell_type": "code",
   "execution_count": 22,
   "metadata": {
    "colab": {
     "base_uri": "https://localhost:8080/"
    },
    "id": "Ao4KdS35fRDZ",
    "outputId": "c75cc9b2-5577-4cdd-e504-ebf26b55d3c6"
   },
   "outputs": [
    {
     "data": {
      "text/plain": [
       "0.9901"
      ]
     },
     "execution_count": 22,
     "metadata": {},
     "output_type": "execute_result"
    }
   ],
   "source": [
    "# classify the test set\n",
    "\n",
    "# predict using the model\n",
    "preds = model.predict(x_test)\n",
    "# argmax along rows to get classification\n",
    "preds = np.argmax(preds, axis=1).astype(\"uint8\")\n",
    "\n",
    "accuracy_score(y_test, preds)"
   ]
  },
  {
   "cell_type": "markdown",
   "metadata": {
    "id": "RMdVlO6qbdW-"
   },
   "source": [
    "## Working with 'Real' Images"
   ]
  },
  {
   "cell_type": "code",
   "execution_count": 23,
   "metadata": {
    "colab": {
     "base_uri": "https://localhost:8080/"
    },
    "id": "8WUXEJnrZPQd",
    "outputId": "c17d08eb-52b8-4f55-eae5-315334c4cc34"
   },
   "outputs": [
    {
     "name": "stdout",
     "output_type": "stream",
     "text": [
      "Requirement already satisfied: pillow in c:\\users\\belajiavvaru\\anaconda3\\lib\\site-packages (7.0.0)\n"
     ]
    }
   ],
   "source": [
    "!pip install pillow\n",
    "from PIL import Image\n",
    "\n",
    "import matplotlib.pyplot as plt\n",
    "import glob"
   ]
  },
  {
   "cell_type": "markdown",
   "metadata": {
    "id": "LNMiGzpqfG2h"
   },
   "source": [
    "pillow (PIL) is the python package for working with real images:\n",
    "\n",
    "[https://pillow.readthedocs.io/en/stable/index.html](https://pillow.readthedocs.io/en/stable/index.html)"
   ]
  },
  {
   "cell_type": "markdown",
   "metadata": {
    "id": "1vl67ARjemIf"
   },
   "source": [
    "I have some images of cats in google drive that I'll be using for example.\n",
    "How to mount google drive in the colab env:\n",
    "[https://www.kaggle.com/questions-and-answers/162449](https://www.kaggle.com/questions-and-answers/162449)"
   ]
  },
  {
   "cell_type": "code",
   "execution_count": 24,
   "metadata": {
    "colab": {
     "base_uri": "https://localhost:8080/"
    },
    "id": "Z8-W_b46ZUYU",
    "outputId": "e54b7671-017e-4578-cc58-43a006019c6e"
   },
   "outputs": [
    {
     "data": {
      "text/plain": [
       "[]"
      ]
     },
     "execution_count": 24,
     "metadata": {},
     "output_type": "execute_result"
    }
   ],
   "source": [
    "cat_images = glob.glob('drive/MyDrive/training_set/cats/*')\n",
    "cat_images[:10]"
   ]
  },
  {
   "cell_type": "markdown",
   "metadata": {
    "id": "xes4jRAiet68"
   },
   "source": [
    "Open the image and resize it.\n",
    "Note that the hand written images should be resized to (28,28).\n",
    "\n",
    "[https://pillow.readthedocs.io/en/stable/reference/Image.html#PIL.Image.Image.resize](https://pillow.readthedocs.io/en/stable/reference/Image.html#PIL.Image.Image.resize)"
   ]
  },
  {
   "cell_type": "code",
   "execution_count": 25,
   "metadata": {
    "colab": {
     "base_uri": "https://localhost:8080/",
     "height": 286
    },
    "id": "HSBSKb38cOKS",
    "outputId": "29b08b02-d249-47e6-e9dc-4403e4e454e6"
   },
   "outputs": [
    {
     "ename": "IndexError",
     "evalue": "list index out of range",
     "output_type": "error",
     "traceback": [
      "\u001b[1;31m---------------------------------------------------------------------------\u001b[0m",
      "\u001b[1;31mIndexError\u001b[0m                                Traceback (most recent call last)",
      "\u001b[1;32m<ipython-input-25-f53fb5799062>\u001b[0m in \u001b[0;36m<module>\u001b[1;34m\u001b[0m\n\u001b[0;32m      1\u001b[0m \u001b[0msize\u001b[0m \u001b[1;33m=\u001b[0m \u001b[1;33m(\u001b[0m\u001b[1;36m28\u001b[0m\u001b[1;33m,\u001b[0m\u001b[1;36m28\u001b[0m\u001b[1;33m)\u001b[0m\u001b[1;33m\u001b[0m\u001b[1;33m\u001b[0m\u001b[0m\n\u001b[1;32m----> 2\u001b[1;33m \u001b[0mim\u001b[0m \u001b[1;33m=\u001b[0m \u001b[0mImage\u001b[0m\u001b[1;33m.\u001b[0m\u001b[0mopen\u001b[0m\u001b[1;33m(\u001b[0m\u001b[0mcat_images\u001b[0m\u001b[1;33m[\u001b[0m\u001b[1;36m0\u001b[0m\u001b[1;33m]\u001b[0m\u001b[1;33m)\u001b[0m\u001b[1;33m\u001b[0m\u001b[1;33m\u001b[0m\u001b[0m\n\u001b[0m\u001b[0;32m      3\u001b[0m \u001b[0mplt\u001b[0m\u001b[1;33m.\u001b[0m\u001b[0mimshow\u001b[0m\u001b[1;33m(\u001b[0m\u001b[0mim\u001b[0m\u001b[1;33m)\u001b[0m\u001b[1;33m\u001b[0m\u001b[1;33m\u001b[0m\u001b[0m\n",
      "\u001b[1;31mIndexError\u001b[0m: list index out of range"
     ]
    }
   ],
   "source": [
    "size = (28,28)\n",
    "im = Image.open(cat_images[0])\n",
    "plt.imshow(im)"
   ]
  },
  {
   "cell_type": "code",
   "execution_count": null,
   "metadata": {
    "colab": {
     "base_uri": "https://localhost:8080/",
     "height": 282
    },
    "id": "m32s1fsjcraI",
    "outputId": "b2430d48-90d0-467c-9020-d7da1c17f67e"
   },
   "outputs": [],
   "source": [
    "im = im.resize(size)\n",
    "plt.imshow(im)"
   ]
  },
  {
   "cell_type": "markdown",
   "metadata": {
    "id": "H4AEuTs6e4GW"
   },
   "source": [
    "Convert the image to greyscale with \"L\" option.\n",
    "\n",
    "[https://pillow.readthedocs.io/en/stable/reference/Image.html#PIL.Image.Image.convert](https://pillow.readthedocs.io/en/stable/reference/Image.html#PIL.Image.Image.convert)"
   ]
  },
  {
   "cell_type": "code",
   "execution_count": null,
   "metadata": {
    "colab": {
     "base_uri": "https://localhost:8080/",
     "height": 282
    },
    "id": "SncwIzgrbjb7",
    "outputId": "18963385-0ca6-4d22-8c82-c1159bae55f2"
   },
   "outputs": [],
   "source": [
    "im = im.convert(\"L\")\n",
    "plt.imshow(im)"
   ]
  },
  {
   "cell_type": "markdown",
   "metadata": {
    "id": "r_BgRugCf_1p"
   },
   "source": [
    "Build an array for training in the neural network"
   ]
  },
  {
   "cell_type": "code",
   "execution_count": null,
   "metadata": {
    "colab": {
     "base_uri": "https://localhost:8080/"
    },
    "id": "6cy18I-vdUWv",
    "outputId": "6a7ad6ca-b951-4998-ecc9-04375973424b"
   },
   "outputs": [],
   "source": [
    "im = np.array(im)\n",
    "im"
   ]
  },
  {
   "cell_type": "code",
   "execution_count": null,
   "metadata": {
    "colab": {
     "base_uri": "https://localhost:8080/"
    },
    "id": "FjfLmAqzdid2",
    "outputId": "2d57bb52-6b3c-4051-dba4-9ce5197462e9"
   },
   "outputs": [],
   "source": [
    "print(im.shape)"
   ]
  },
  {
   "cell_type": "code",
   "execution_count": null,
   "metadata": {
    "id": "rX4VOywPdnrF"
   },
   "outputs": [],
   "source": [
    "# load each image, run the initial conversion steps, combine in a list\n",
    "new_images = []\n",
    "new_size = (28,28)\n",
    "for im in cat_images[:10]:\n",
    "  im = Image.open(im).convert(\"L\").resize(new_size)\n",
    "  new_images.append(np.array(im))\n",
    "  "
   ]
  },
  {
   "cell_type": "code",
   "execution_count": null,
   "metadata": {
    "colab": {
     "base_uri": "https://localhost:8080/"
    },
    "id": "W4Gn0zR5eRxR",
    "outputId": "04134720-7366-4526-d14f-6f9b658f0d0d"
   },
   "outputs": [],
   "source": [
    "# \"stack\" the arrays\n",
    "x_train = np.stack(new_images)\n",
    "print(x_train.shape)"
   ]
  },
  {
   "cell_type": "code",
   "execution_count": null,
   "metadata": {
    "colab": {
     "base_uri": "https://localhost:8080/"
    },
    "id": "3veX_dX1geoT",
    "outputId": "f6c4a1e2-e06b-4ad8-de15-c9beacf87758"
   },
   "outputs": [],
   "source": [
    "# as done in mnist add the color channel\n",
    "x_train = x_train.reshape((10,28,28,1))\n",
    "x_train.shape"
   ]
  },
  {
   "cell_type": "markdown",
   "metadata": {
    "id": "slMWbaaNX5ti"
   },
   "source": [
    "## For Next Week\n",
    "\n"
   ]
  },
  {
   "cell_type": "markdown",
   "metadata": {
    "id": "fnXuAFqcf1f3"
   },
   "source": [
    "1. Start working on your dataset\n",
    "2. Write the code to bring in your dataset (resize images to same as mnist)\n",
    "3. Write the code to preprocess your dataset (same as mnist)"
   ]
  }
 ],
 "metadata": {
  "colab": {
   "collapsed_sections": [],
   "name": "ConvNet_example_1.ipynb",
   "provenance": [],
   "toc_visible": true
  },
  "kernelspec": {
   "display_name": "Python 3",
   "language": "python",
   "name": "python3"
  },
  "language_info": {
   "codemirror_mode": {
    "name": "ipython",
    "version": 3
   },
   "file_extension": ".py",
   "mimetype": "text/x-python",
   "name": "python",
   "nbconvert_exporter": "python",
   "pygments_lexer": "ipython3",
   "version": "3.7.6"
  }
 },
 "nbformat": 4,
 "nbformat_minor": 1
}
