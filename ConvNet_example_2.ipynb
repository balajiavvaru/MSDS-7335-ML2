{
 "cells": [
  {
   "cell_type": "markdown",
   "metadata": {
    "id": "SLHqcz7ZKam8"
   },
   "source": [
    "# Transfer learning"
   ]
  },
  {
   "cell_type": "code",
   "execution_count": 1,
   "metadata": {
    "id": "IDY-pcLRXihh"
   },
   "outputs": [],
   "source": [
    "import numpy as np\n",
    "from sklearn.utils import shuffle\n",
    "from sklearn.metrics import accuracy_score\n",
    "import matplotlib.pyplot as plt\n",
    "\n",
    "import tensorflow as tf\n",
    "from tensorflow import keras\n",
    "from tensorflow.keras import Sequential, Model"
   ]
  },
  {
   "cell_type": "code",
   "execution_count": 2,
   "metadata": {
    "id": "a7_nU6TKbCzo"
   },
   "outputs": [],
   "source": [
    "def plot_training_curves(history, title=None):\n",
    "    ''' Plot the training curves for loss and accuracy given a model history\n",
    "    '''\n",
    "    # find the minimum loss epoch\n",
    "    minimum = np.min(history.history['val_loss'])\n",
    "    min_loc = np.where(minimum == history.history['val_loss'])[0]\n",
    "    # get the vline y-min and y-max\n",
    "    loss_min, loss_max = (min(history.history['val_loss'] + history.history['loss']),\n",
    "                          max(history.history['val_loss'] + history.history['loss']))\n",
    "    acc_min, acc_max = (min(history.history['val_accuracy'] + history.history['accuracy']),\n",
    "                        max(history.history['val_accuracy'] + history.history['accuracy']))\n",
    "    # create figure\n",
    "    fig, ax = plt.subplots(ncols=2, figsize = (15,7))\n",
    "    fig.suptitle(title)\n",
    "    index = np.arange(1, len(history.history['accuracy']) + 1)\n",
    "    # plot the loss and validation loss\n",
    "    ax[0].plot(index, history.history['loss'], label = 'loss')\n",
    "    ax[0].plot(index, history.history['val_loss'], label = 'val_loss')\n",
    "    ax[0].vlines(min_loc + 1, loss_min, loss_max, label = 'min_loss_location')\n",
    "    ax[0].set_title('Loss')\n",
    "    ax[0].set_ylabel('Loss')\n",
    "    ax[0].set_xlabel('Epochs')\n",
    "    ax[0].legend()\n",
    "    # plot the accuracy and validation accuracy\n",
    "    ax[1].plot(index, history.history['accuracy'], label = 'accuracy')\n",
    "    ax[1].plot(index, history.history['val_accuracy'], label = 'val_accuracy')\n",
    "    ax[1].vlines(min_loc + 1, acc_min, acc_max, label = 'min_loss_location')\n",
    "    ax[1].set_title('Accuracy')\n",
    "    ax[1].set_ylabel('Accuracy')\n",
    "    ax[1].set_xlabel('Epochs')\n",
    "    ax[1].legend()\n",
    "    plt.show()"
   ]
  },
  {
   "cell_type": "code",
   "execution_count": 3,
   "metadata": {
    "colab": {
     "base_uri": "https://localhost:8080/"
    },
    "id": "10TR145iXm9H",
    "outputId": "ee7c46a5-2976-4d94-bba9-7db0d0489079"
   },
   "outputs": [],
   "source": [
    "# load in the dataset\n",
    "(x_train, y_train), (x_test, y_test) = keras.datasets.mnist.load_data()"
   ]
  },
  {
   "cell_type": "markdown",
   "metadata": {
    "id": "kIMN9vT_Ki2v"
   },
   "source": [
    "Split mnist into two sets\n",
    "\n",
    "1. digits 0-6\n",
    "2. digits 7-9\n",
    "\n",
    "We will train the model on the 0-6 set and transfer to the 7-9 set."
   ]
  },
  {
   "cell_type": "code",
   "execution_count": 4,
   "metadata": {
    "id": "pvlLnEg2Xw0z"
   },
   "outputs": [],
   "source": [
    "# train and test sets for digits 0-6\n",
    "x_train_0_6 = x_train[y_train < 7] / 255.\n",
    "y_train_0_6 = y_train[y_train < 7]\n",
    "x_test_0_6 = x_test[y_test < 7] / 255.\n",
    "y_test_0_6 = y_test[y_test < 7]\n",
    "\n",
    "# train and test set for digits 7-9\n",
    "x_train_7_9 = x_train[y_train >= 7] / 255.\n",
    "y_train_7_9 = y_train[y_train >= 7] - 7\n",
    "x_test_7_9 = x_test[y_test >= 7] / 255.\n",
    "y_test_7_9 = y_test[y_test >= 7] - 7"
   ]
  },
  {
   "cell_type": "code",
   "execution_count": 5,
   "metadata": {
    "id": "JolXLcDsZxaa"
   },
   "outputs": [],
   "source": [
    "# reshape to add color channel\n",
    "x_train_0_6 = x_train_0_6.reshape(x_train_0_6.shape + (1,))\n",
    "x_test_0_6 = x_test_0_6.reshape(x_test_0_6.shape + (1,))\n",
    "x_train_7_9 = x_train_7_9.reshape(x_train_7_9.shape + (1,))\n",
    "x_test_7_9 = x_test_7_9.reshape(x_test_7_9.shape + (1,))"
   ]
  },
  {
   "cell_type": "code",
   "execution_count": 6,
   "metadata": {
    "colab": {
     "base_uri": "https://localhost:8080/"
    },
    "id": "o_9nzYdRUpZd",
    "outputId": "a0ae5642-6dfb-44e5-d99f-893692153800"
   },
   "outputs": [
    {
     "data": {
      "text/plain": [
       "(41935, 28, 28, 1)"
      ]
     },
     "execution_count": 6,
     "metadata": {},
     "output_type": "execute_result"
    }
   ],
   "source": [
    "x_train_0_6.shape"
   ]
  },
  {
   "cell_type": "code",
   "execution_count": 7,
   "metadata": {
    "colab": {
     "base_uri": "https://localhost:8080/"
    },
    "id": "5H-RaBImYRAV",
    "outputId": "db61925e-ab8f-45d3-8615-3abb1ec61bf5"
   },
   "outputs": [
    {
     "name": "stdout",
     "output_type": "stream",
     "text": [
      "Epoch 1/1000\n",
      "1311/1311 [==============================] - 37s 27ms/step - loss: 0.2652 - accuracy: 0.9169 - val_loss: 0.0297 - val_accuracy: 0.9907\n",
      "Epoch 2/1000\n",
      "1311/1311 [==============================] - 31s 24ms/step - loss: 0.0366 - accuracy: 0.9883 - val_loss: 0.0249 - val_accuracy: 0.9924\n",
      "Epoch 3/1000\n",
      "1311/1311 [==============================] - 34s 26ms/step - loss: 0.0285 - accuracy: 0.9908 - val_loss: 0.0201 - val_accuracy: 0.9928\n",
      "Epoch 4/1000\n",
      "1311/1311 [==============================] - 32s 25ms/step - loss: 0.0216 - accuracy: 0.9932 - val_loss: 0.0152 - val_accuracy: 0.9954\n",
      "Epoch 5/1000\n",
      "1311/1311 [==============================] - 34s 26ms/step - loss: 0.0167 - accuracy: 0.9940 - val_loss: 0.0158 - val_accuracy: 0.9951\n",
      "Epoch 6/1000\n",
      "1311/1311 [==============================] - 32s 24ms/step - loss: 0.0174 - accuracy: 0.9943 - val_loss: 0.0195 - val_accuracy: 0.9941\n"
     ]
    }
   ],
   "source": [
    "\n",
    "num_classes=7\n",
    "filters=32\n",
    "pool_size=2\n",
    "kernel_size=3\n",
    "dropout=0.2\n",
    "input_shape = (28,28,1)\n",
    "\n",
    "model = Sequential([\n",
    "      # convolutional feature extraction\n",
    "      # ConvNet 1\n",
    "      keras.layers.Conv2D(filters, kernel_size, padding = 'valid',\n",
    "              activation='relu',\n",
    "              input_shape=input_shape),\n",
    "      keras.layers.MaxPooling2D(pool_size=pool_size),\n",
    "\n",
    "      # ConvNet 2\n",
    "      keras.layers.Conv2D(filters, kernel_size,\n",
    "              padding = 'valid',\n",
    "              activation='relu'),\n",
    "      keras.layers.MaxPooling2D(pool_size=pool_size),\n",
    "\n",
    "      # classification \n",
    "      # will retrain from here\n",
    "      keras.layers.Flatten(name='flatten'),\n",
    "\n",
    "      keras.layers.Dropout(dropout),\n",
    "      keras.layers.Dense(128, activation='relu'),\n",
    "      \n",
    "      keras.layers.Dropout(dropout, name='penult'),\n",
    "      keras.layers.Dense(num_classes, activation='softmax', name='last')\n",
    "  ])\n",
    "\n",
    "es = keras.callbacks.EarlyStopping(min_delta=0.001, patience=2)\n",
    "\n",
    "model.compile(loss='sparse_categorical_crossentropy',\n",
    "                      optimizer='adam', #sgd, nadam, adam, rmsprop\n",
    "                      metrics=['accuracy'])\n",
    "\n",
    "history = model.fit(x_train_0_6, y_train_0_6,\n",
    "                    validation_data=(x_test_0_6, y_test_0_6),\n",
    "                    batch_size=32,\n",
    "                    epochs=1000,\n",
    "                    callbacks=[es])"
   ]
  },
  {
   "cell_type": "code",
   "execution_count": 8,
   "metadata": {
    "colab": {
     "base_uri": "https://localhost:8080/",
     "height": 458
    },
    "id": "Jg1WFjlDaJzI",
    "outputId": "7a657b82-cff5-431f-f34b-be3b3caad5cc"
   },
   "outputs": [
    {
     "data": {
      "image/png": "[encoded data removed]",
      "text/plain": [
       "<Figure size 1080x504 with 2 Axes>"
      ]
     },
     "metadata": {
      "needs_background": "light"
     },
     "output_type": "display_data"
    }
   ],
   "source": [
    "plot_training_curves(history=history)"
   ]
  },
  {
   "cell_type": "code",
   "execution_count": 9,
   "metadata": {
    "colab": {
     "base_uri": "https://localhost:8080/"
    },
    "id": "qbebuuvQYBtj",
    "outputId": "7d14a550-73a6-4f3c-90d2-a615b5e37694"
   },
   "outputs": [
    {
     "name": "stdout",
     "output_type": "stream",
     "text": [
      "Model: \"sequential\"\n",
      "_________________________________________________________________\n",
      "Layer (type)                 Output Shape              Param #   \n",
      "=================================================================\n",
      "conv2d (Conv2D)              (None, 26, 26, 32)        320       \n",
      "_________________________________________________________________\n",
      "max_pooling2d (MaxPooling2D) (None, 13, 13, 32)        0         \n",
      "_________________________________________________________________\n",
      "conv2d_1 (Conv2D)            (None, 11, 11, 32)        9248      \n",
      "_________________________________________________________________\n",
      "max_pooling2d_1 (MaxPooling2 (None, 5, 5, 32)          0         \n",
      "_________________________________________________________________\n",
      "flatten (Flatten)            (None, 800)               0         \n",
      "_________________________________________________________________\n",
      "dropout (Dropout)            (None, 800)               0         \n",
      "_________________________________________________________________\n",
      "dense (Dense)                (None, 128)               102528    \n",
      "_________________________________________________________________\n",
      "penult (Dropout)             (None, 128)               0         \n",
      "_________________________________________________________________\n",
      "last (Dense)                 (None, 7)                 903       \n",
      "=================================================================\n",
      "Total params: 112,999\n",
      "Trainable params: 112,999\n",
      "Non-trainable params: 0\n",
      "_________________________________________________________________\n"
     ]
    }
   ],
   "source": [
    "model.summary()"
   ]
  },
  {
   "cell_type": "markdown",
   "metadata": {
    "id": "O9W-UD-yLRQw"
   },
   "source": [
    "## Transfer Learning Section\n",
    "\n",
    "1. \"Lock\" the convolutional layers (set to non-trainable)\n",
    "2. Remove original output layer, add new output layer with 3 neurons\n",
    "3. Train classifier on new dataset"
   ]
  },
  {
   "cell_type": "code",
   "execution_count": 10,
   "metadata": {
    "colab": {
     "base_uri": "https://localhost:8080/"
    },
    "id": "p90-D3MmY5mQ",
    "outputId": "d5e2ad1f-0a98-4792-e1d6-be5e4fac2580"
   },
   "outputs": [
    {
     "data": {
      "text/plain": [
       "<tensorflow.python.keras.layers.convolutional.Conv2D at 0x28ce1c6a348>"
      ]
     },
     "execution_count": 10,
     "metadata": {},
     "output_type": "execute_result"
    }
   ],
   "source": [
    "model.layers[0]"
   ]
  },
  {
   "cell_type": "code",
   "execution_count": 11,
   "metadata": {
    "colab": {
     "base_uri": "https://localhost:8080/"
    },
    "id": "CZtbOKtvZlOV",
    "outputId": "d13a2f4a-578e-4306-9b67-78e9dac75a87"
   },
   "outputs": [
    {
     "name": "stdout",
     "output_type": "stream",
     "text": [
      "Layer Name        Is Trainable?\n",
      "conv2d            False\n",
      "max_pooling2d     False\n",
      "conv2d_1          False\n",
      "max_pooling2d_1   False\n",
      "flatten           False\n",
      "dropout           True\n",
      "dense             True\n",
      "penult            True\n",
      "last              True\n"
     ]
    }
   ],
   "source": [
    "# lock the ConvNet layers\n",
    "layer_trainable = False\n",
    "for layer in model.layers:\n",
    "  layer.trainable = layer_trainable\n",
    "  if layer.name == 'flatten':\n",
    "    layer_trainable = True\n",
    "\n",
    "print(f\"{'Layer Name':17} {'Is Trainable?'}\")\n",
    "for layer in model.layers:\n",
    "  print(f\"{layer.name:17} {layer.trainable}\")"
   ]
  },
  {
   "cell_type": "code",
   "execution_count": 12,
   "metadata": {
    "id": "6JlVxCoXb48F"
   },
   "outputs": [],
   "source": [
    "# get the penultimate layer of the model\n",
    "penult_layer = model.get_layer(name='penult')\n",
    "\n",
    "# create a new output layer\n",
    "output_layer = keras.layers.Dense(3, activation='softmax')(penult_layer.output)\n",
    "\n",
    "new_model = Model(model.input, output_layer)"
   ]
  },
  {
   "cell_type": "code",
   "execution_count": 13,
   "metadata": {
    "colab": {
     "base_uri": "https://localhost:8080/"
    },
    "id": "86mHZBoebcKK",
    "outputId": "29d93138-734b-4d4b-e293-9ea4a3982927"
   },
   "outputs": [
    {
     "name": "stdout",
     "output_type": "stream",
     "text": [
      "Model: \"model\"\n",
      "_________________________________________________________________\n",
      "Layer (type)                 Output Shape              Param #   \n",
      "=================================================================\n",
      "conv2d_input (InputLayer)    [(None, 28, 28, 1)]       0         \n",
      "_________________________________________________________________\n",
      "conv2d (Conv2D)              (None, 26, 26, 32)        320       \n",
      "_________________________________________________________________\n",
      "max_pooling2d (MaxPooling2D) (None, 13, 13, 32)        0         \n",
      "_________________________________________________________________\n",
      "conv2d_1 (Conv2D)            (None, 11, 11, 32)        9248      \n",
      "_________________________________________________________________\n",
      "max_pooling2d_1 (MaxPooling2 (None, 5, 5, 32)          0         \n",
      "_________________________________________________________________\n",
      "flatten (Flatten)            (None, 800)               0         \n",
      "_________________________________________________________________\n",
      "dropout (Dropout)            (None, 800)               0         \n",
      "_________________________________________________________________\n",
      "dense (Dense)                (None, 128)               102528    \n",
      "_________________________________________________________________\n",
      "penult (Dropout)             (None, 128)               0         \n",
      "_________________________________________________________________\n",
      "dense_1 (Dense)              (None, 3)                 387       \n",
      "=================================================================\n",
      "Total params: 112,483\n",
      "Trainable params: 102,915\n",
      "Non-trainable params: 9,568\n",
      "_________________________________________________________________\n"
     ]
    }
   ],
   "source": [
    "new_model.summary()"
   ]
  },
  {
   "cell_type": "code",
   "execution_count": 14,
   "metadata": {
    "colab": {
     "base_uri": "https://localhost:8080/"
    },
    "id": "TxHr5lCEeOlF",
    "outputId": "62acc746-cdc7-437e-ce53-1f9c1f23ab47"
   },
   "outputs": [
    {
     "name": "stdout",
     "output_type": "stream",
     "text": [
      "Epoch 1/1000\n",
      "565/565 [==============================] - 8s 13ms/step - loss: 0.2638 - accuracy: 0.9051 - val_loss: 0.0260 - val_accuracy: 0.9884\n",
      "Epoch 2/1000\n",
      "565/565 [==============================] - 9s 15ms/step - loss: 0.0285 - accuracy: 0.9910 - val_loss: 0.0164 - val_accuracy: 0.9930\n",
      "Epoch 3/1000\n",
      "565/565 [==============================] - 8s 14ms/step - loss: 0.0207 - accuracy: 0.9927 - val_loss: 0.0147 - val_accuracy: 0.9947\n",
      "Epoch 4/1000\n",
      "565/565 [==============================] - 9s 15ms/step - loss: 0.0153 - accuracy: 0.9950 - val_loss: 0.0139 - val_accuracy: 0.9940\n",
      "Epoch 5/1000\n",
      "565/565 [==============================] - 8s 13ms/step - loss: 0.0135 - accuracy: 0.9960 - val_loss: 0.0126 - val_accuracy: 0.9954: 0.0135 \n",
      "Epoch 6/1000\n",
      "565/565 [==============================] - 9s 16ms/step - loss: 0.0094 - accuracy: 0.9971 - val_loss: 0.0152 - val_accuracy: 0.9940\n",
      "Epoch 7/1000\n",
      "565/565 [==============================] - 8s 14ms/step - loss: 0.0095 - accuracy: 0.9966 - val_loss: 0.0162 - val_accuracy: 0.9944\n"
     ]
    }
   ],
   "source": [
    "new_model.compile(loss='sparse_categorical_crossentropy',\n",
    "                  optimizer='adam',\n",
    "                  metrics=['accuracy'])\n",
    "\n",
    "new_model_hist = new_model.fit(x_train_7_9, y_train_7_9,\n",
    "                              validation_data=(x_test_7_9, y_test_7_9),\n",
    "                              batch_size=32,\n",
    "                              epochs=1000,\n",
    "                              callbacks=[es])"
   ]
  },
  {
   "cell_type": "code",
   "execution_count": 15,
   "metadata": {
    "colab": {
     "base_uri": "https://localhost:8080/",
     "height": 458
    },
    "id": "wpIXzdZreogt",
    "outputId": "022a8df3-0fe2-42aa-87a9-879c4bf11150"
   },
   "outputs": [
    {
     "data": {
      "image/png": "[encoded data removed]",
      "text/plain": [
       "<Figure size 1080x504 with 2 Axes>"
      ]
     },
     "metadata": {
      "needs_background": "light"
     },
     "output_type": "display_data"
    }
   ],
   "source": [
    "plot_training_curves(new_model_hist)"
   ]
  },
  {
   "cell_type": "code",
   "execution_count": null,
   "metadata": {},
   "outputs": [],
   "source": []
  }
 ],
 "metadata": {
  "colab": {
   "collapsed_sections": [],
   "name": "ConvNet_example_2.ipynb",
   "provenance": []
  },
  "kernelspec": {
   "display_name": "Python 3",
   "language": "python",
   "name": "python3"
  },
  "language_info": {
   "codemirror_mode": {
    "name": "ipython",
    "version": 3
   },
   "file_extension": ".py",
   "mimetype": "text/x-python",
   "name": "python",
   "nbconvert_exporter": "python",
   "pygments_lexer": "ipython3",
   "version": "3.7.6"
  }
 },
 "nbformat": 4,
 "nbformat_minor": 1
}
