{
 "cells": [
  {
   "cell_type": "code",
   "execution_count": 606,
   "metadata": {},
   "outputs": [],
   "source": [
    "import numpy as np"
   ]
  },
  {
   "cell_type": "code",
   "execution_count": 607,
   "metadata": {},
   "outputs": [],
   "source": [
    "# You asked your 10 work friends to answer a survey. They gave you back the following dictionary object. \n",
    "# Removing \"hipster points\" category to make people categories and restuarent categoties equal\n",
    "\n",
    "people = ['Wilke', 'Stroud', 'Kimbark', 'Adams', 'Milett', 'Cheng', 'Vasquez', 'Jiang', 'Ludlow', 'Fogelman']\n",
    "people_cat = ['willingness to travel', 'desire for new experience', 'cost', 'indian food', 'mexican food', 'vegitarian']"
   ]
  },
  {
   "cell_type": "code",
   "execution_count": 608,
   "metadata": {},
   "outputs": [],
   "source": [
    "# Transform the user data into a matrix(M_people). Keep track of column and row ids.\n",
    "people_dict =  {}\n",
    "M_people = []\n",
    "\n",
    "for key in people: \n",
    "    cat_dict = {}\n",
    "    valueArray = np.random.dirichlet(np.ones(len(people_cat)),size=1)\n",
    "    idx = 0\n",
    "    for cat_key in people_cat: \n",
    "        cat_dict[cat_key] = valueArray[0, idx] \n",
    "        idx += 1\n",
    "    people_dict[key] = cat_dict\n",
    "    M_people.append(valueArray[0])"
   ]
  },
  {
   "cell_type": "code",
   "execution_count": 609,
   "metadata": {},
   "outputs": [
    {
     "data": {
      "text/plain": [
       "(10, 6)"
      ]
     },
     "execution_count": 609,
     "metadata": {},
     "output_type": "execute_result"
    }
   ],
   "source": [
    "M_people = np.array(M_people)\n",
    "M_people.shape"
   ]
  },
  {
   "cell_type": "code",
   "execution_count": 610,
   "metadata": {},
   "outputs": [],
   "source": [
    "# Next you collected data from an internet website. You got the following information.\n",
    "restaurants = ['Flacos', 'Chilis', 'TacoBell', 'BurgerKing', 'McDonalds', 'pizzaHut', 'Mayan', 'DairyQueen', 'MiSo', 'Mayuri']\n",
    "restaurants_cat = ['distance', 'novelty', 'cost', 'average rating', 'cuisine', 'vegitarians']"
   ]
  },
  {
   "cell_type": "code",
   "execution_count": 611,
   "metadata": {},
   "outputs": [],
   "source": [
    "# Transform the restaurant data into a matrix(M_resturants) use the same column index.\n",
    "restaurants_dict =  {}\n",
    "M_resturants = []\n",
    "\n",
    "for key in restaurants: \n",
    "    cat_dict = {}\n",
    "    valueArray = np.random.randint(5, size=6)+1\n",
    "    idx = 0\n",
    "    for cat_key in people_cat: \n",
    "        cat_dict[cat_key] = valueArray[idx] \n",
    "        idx += 1\n",
    "    restaurants_dict[key] = cat_dict\n",
    "    M_resturants.append(valueArray)"
   ]
  },
  {
   "cell_type": "code",
   "execution_count": 612,
   "metadata": {},
   "outputs": [
    {
     "data": {
      "text/plain": [
       "(10, 6)"
      ]
     },
     "execution_count": 612,
     "metadata": {},
     "output_type": "execute_result"
    }
   ],
   "source": [
    "M_resturants = np.array(M_resturants)\n",
    "M_restaurants = np.reshape(M_resturants, (10,6))\n",
    "M_resturants.shape"
   ]
  },
  {
   "cell_type": "code",
   "execution_count": 613,
   "metadata": {},
   "outputs": [
    {
     "name": "stdout",
     "output_type": "stream",
     "text": [
      "Linear combination is an expression where each term is constructed  by multiplying with a constant and summing the results.In restaurant problem, we need to multiply people matrix by the restaurant matrix which will give us a 'restaurant score' for each person that we can use to identify the restaurant.\n"
     ]
    }
   ],
   "source": [
    "# The most imporant idea in this project is the idea of a linear combination.  \n",
    "\n",
    "# Informally describe what a linear combination is  and how it will relate to our resturant matrix.\n",
    "\n",
    "print(\"Linear combination is an expression where each term is constructed  by multiplying with a constant and summing the results.\" + \n",
    "      \"In restaurant problem, we need to multiply people matrix by the restaurant matrix which will give us \" + \n",
    "      \"a 'restaurant score' for each person that we can use to identify the restaurant.\")"
   ]
  },
  {
   "cell_type": "code",
   "execution_count": 614,
   "metadata": {},
   "outputs": [],
   "source": [
    "# Choose a person and compute(using a linear combination) the top restaurant for them.  \n",
    "# What does each entry in the resulting vector represent. We will compute first person scores for each restaurant.\n",
    "restaurants_score = []\n",
    "\n",
    "for restaurant in M_restaurants:\n",
    "    restaurant_score = np.sum([l*n for l, n in zip(M_people[0], restaurant)])\n",
    "    restaurants_score.append(restaurant_score)"
   ]
  },
  {
   "cell_type": "code",
   "execution_count": 615,
   "metadata": {},
   "outputs": [
    {
     "name": "stdout",
     "output_type": "stream",
     "text": [
      "Wilke's max restaurant score is 4.270401903130272, which is pizzaHut.\n"
     ]
    }
   ],
   "source": [
    "max_value = max(restaurants_score)\n",
    "max_index = restaurants_score.index(max_value)\n",
    "\n",
    "print(f\"{people[0]}'s max restaurant score is {max_value}, which is {restaurants[max_index]}.\")"
   ]
  },
  {
   "cell_type": "code",
   "execution_count": 616,
   "metadata": {},
   "outputs": [
    {
     "name": "stdout",
     "output_type": "stream",
     "text": [
      "Matrix represents restaurants by people, the rows represent restaurants and the columns represent people.\n",
      "\n",
      "[[2.78722566 3.000913   3.26337546 2.70989493 3.14389652 3.22051469\n",
      "  3.02211406 2.97987072 3.38470804 3.12241512]\n",
      " [3.20933771 3.02947379 2.15675062 1.66365013 2.66789652 2.58208491\n",
      "  2.93429739 3.38469586 3.1388418  2.66249772]\n",
      " [3.33982578 3.13932882 3.02968474 2.4218493  2.83082958 2.29107323\n",
      "  3.13317362 3.17883814 3.11547766 2.73011188]\n",
      " [3.40122732 2.82918193 3.13473348 2.89251205 3.15339778 4.03617397\n",
      "  3.80150412 3.22266138 4.61862756 3.48730306]\n",
      " [2.25394793 2.07317543 2.27705924 2.19297386 2.42621051 3.09194521\n",
      "  2.67653212 2.29735594 3.27139901 2.73381516]\n",
      " [4.2704019  3.87060616 2.72863113 3.6682446  3.42393098 3.74482888\n",
      "  3.58165454 4.20271494 3.11651845 3.30570283]\n",
      " [3.03830516 3.66084093 3.21201352 3.18310624 3.59858044 4.02335449\n",
      "  2.838291   3.66613302 2.88376589 3.20902116]\n",
      " [2.17903427 1.84977241 1.94879013 1.85699429 1.87216919 2.00088995\n",
      "  2.2361912  1.98097423 2.41985733 1.98669528]\n",
      " [3.33869971 3.47680507 3.0446994  4.13107952 3.35417031 3.14010784\n",
      "  3.04255802 3.31324581 2.28063977 3.34320009]\n",
      " [4.268897   4.2739065  4.23914384 4.52313501 3.98081561 3.27862614\n",
      "  3.90771966 4.02564526 3.24149139 3.78975262]]\n"
     ]
    }
   ],
   "source": [
    "# Next compute a new matrix (M_usr_x_rest  i.e. an user by restaurant) from all people.  What does the a_ij matrix represent? \n",
    "M_people_new = np.swapaxes(M_people, 0, 1)\n",
    "M_usr_x_rest = np.matmul(M_restaurants, M_people_new)\n",
    "print(\"Matrix represents restaurants by people, the rows represent restaurants and the columns represent people.\\n\")\n",
    "print(M_usr_x_rest)"
   ]
  },
  {
   "cell_type": "code",
   "execution_count": 617,
   "metadata": {},
   "outputs": [
    {
     "name": "stdout",
     "output_type": "stream",
     "text": [
      "The entries represent the total score for each restaurant.\n",
      "\n",
      "[30.6349282  27.42952646 29.21019275 34.57732266 25.2944144  35.91323441\n",
      " 33.31341185 20.33136828 32.46520554 39.52913304]\n",
      "\n",
      "Max restaurant score is 39.52913303818918, which is Mayuri.\n"
     ]
    }
   ],
   "source": [
    "# Sum all columns in M_usr_x_rest to get optimal restaurant for all users.  What do the entry’s represent?\n",
    "\n",
    "print(\"The entries represent the total score for each restaurant.\\n\")\n",
    "print(np.sum(M_usr_x_rest, axis=1))\n",
    "\n",
    "Final_Restaurant_Scores = list(np.sum(M_usr_x_rest, axis=1))\n",
    "max_Restaurant_Score = max(Final_Restaurant_Scores)\n",
    "max_Restaurant_Score_index = Final_Restaurant_Scores.index(max_Restaurant_Score)\n",
    "\n",
    "print(f\"\\nMax restaurant score is {max_Restaurant_Score}, which is {restaurants[max_Restaurant_Score_index]}.\")"
   ]
  },
  {
   "cell_type": "code",
   "execution_count": 618,
   "metadata": {},
   "outputs": [
    {
     "name": "stdout",
     "output_type": "stream",
     "text": [
      "[[8 5 9 6 4 7 2 0 1 3]\n",
      " [8 6 2 5 7 0 9 4 1 3]\n",
      " [1 3 4 2 7 9 5 0 6 8]\n",
      " [6 8 0 3 9 2 4 1 7 5]\n",
      " [2 8 9 4 6 3 5 1 7 0]\n",
      " [1 3 0 2 7 4 6 9 5 8]\n",
      " [1 3 2 4 7 0 9 6 5 8]\n",
      " [5 3 9 4 2 8 6 1 7 0]\n",
      " [3 2 5 9 4 6 1 8 0 7]\n",
      " [3 0 7 1 6 9 4 5 2 8]] \n",
      "\n",
      "Max restaurant score for Wilke is Flacos.\n",
      "Max restaurant score for Stroud is BurgerKing.\n",
      "Max restaurant score for Kimbark is Flacos.\n",
      "Max restaurant score for Adams is MiSo.\n",
      "Max restaurant score for Milett is BurgerKing.\n",
      "Max restaurant score for Cheng is TacoBell.\n",
      "Max restaurant score for Vasquez is Chilis.\n",
      "Max restaurant score for Jiang is pizzaHut.\n",
      "Max restaurant score for Ludlow is BurgerKing.\n",
      "Max restaurant score for Fogelman is TacoBell.\n"
     ]
    }
   ],
   "source": [
    "# Now convert each row in the M_usr_x_rest into a ranking for each user and call it M_usr_x_rest_rank.   \n",
    "# Do the same as above to generate the optimal resturant choice.  \n",
    "M_usr_x_rest = M_usr_x_rest.argsort()[::-1]\n",
    "print(M_usr_x_rest, '\\n')\n",
    "\n",
    "maxRowIndex = np.argmax(M_usr_x_rest, axis=0)\n",
    "\n",
    "for i, optimalRestaurant in enumerate(maxRowIndex):\n",
    "    print(f\"Max restaurant score for {people[i]} is {restaurants[optimalRestaurant]}.\")"
   ]
  },
  {
   "cell_type": "code",
   "execution_count": 619,
   "metadata": {},
   "outputs": [
    {
     "name": "stdout",
     "output_type": "stream",
     "text": [
      "There is a difference between the two because there may be groups of people with similar optimal choices. This scenario represents the real world situation where we might need to consider all people into account, the entire group cannot make an optimal choice as each restaurant may be optimal for a sub group of people.\n"
     ]
    }
   ],
   "source": [
    "# Why is there a difference between the two?  What problem arrives?  What does represent in the real world?\n",
    "print(\"There is a difference between the two because there may be groups of people with similar optimal choices.\",\n",
    "      \"This scenario represents the real world situation where we might need to consider all people into account,\"\n",
    "      \" the entire group cannot make an optimal choice as each restaurant may be optimal for a sub group of people.\")"
   ]
  },
  {
   "cell_type": "code",
   "execution_count": 620,
   "metadata": {},
   "outputs": [
    {
     "name": "stdout",
     "output_type": "stream",
     "text": [
      "We can pre-process the data to identify groups of people that might remove this issue.\n"
     ]
    }
   ],
   "source": [
    "# How should you preprocess your data to remove this problem. \n",
    "print(\"We can pre-process the data to identify groups of people that might remove this issue.\")"
   ]
  },
  {
   "cell_type": "code",
   "execution_count": 621,
   "metadata": {},
   "outputs": [
    {
     "name": "stdout",
     "output_type": "stream",
     "text": [
      "[[0.41672465 0.21788529 0.27320477 0.03885103 0.02157939 0.03175487]\n",
      " [0.41828049 0.01959144 0.23372457 0.16981903 0.06481855 0.09376592]\n",
      " [0.05467236 0.25933809 0.1657491  0.31054795 0.11857661 0.09111589]\n",
      " [0.03348355 0.01814013 0.54051264 0.16114584 0.08926174 0.1574561 ]\n",
      " [0.22382327 0.0367901  0.22525409 0.16462091 0.2045297  0.14498192]\n",
      " [0.10406268 0.00905888 0.30485129 0.00816893 0.51719704 0.05666118]\n",
      " [0.20399007 0.28338849 0.18964409 0.04719729 0.16456086 0.1112192 ]\n",
      " [0.47870612 0.04891045 0.21842197 0.06793622 0.13035646 0.05566878]\n",
      " [0.0898252  0.42768527 0.01257636 0.00782794 0.38945645 0.07262878]\n",
      " [0.13491398 0.07125728 0.21910312 0.084562   0.25695625 0.23320738]]\n",
      "\n",
      " ['Wilke', 'Stroud', 'Kimbark', 'Adams', 'Milett', 'Cheng', 'Vasquez', 'Jiang', 'Ludlow', 'Fogelman']\n",
      "\n",
      " ['willingness to travel', 'desire for new experience', 'cost', 'indian food', 'mexican food', 'vegitarian'] \n",
      "\n",
      "People with very low scores for certain criteria could be problematic. Stroud, Adams and Jiang are problematic profiles because low scores These low criteria scores could make it difficult for an optimal restaurant choice to be found for the group.\n"
     ]
    }
   ],
   "source": [
    "# Find  user profiles that are problematic, explain why?\n",
    "print(M_people)\n",
    "print('\\n', people,)\n",
    "print('\\n', people_cat, '\\n')\n",
    "print(\"People with very low scores for certain criteria could be problematic.\",  \n",
    "      \"Stroud, Adams and Jiang are problematic profiles because low scores\", \n",
    "      \"These low criteria scores could make it difficult for an optimal restaurant choice to be found for the group.\")"
   ]
  },
  {
   "cell_type": "code",
   "execution_count": 622,
   "metadata": {},
   "outputs": [
    {
     "name": "stdout",
     "output_type": "stream",
     "text": [
      "The difference between groups max restaurant score and individual max restaurant score is a measure of “dissatisfaction score” for each person.\n",
      "\n",
      "Any other scores like cost, if there is a lot of difference between group score and individual scorecan be considered as 'dissatisfaction score' for each person.\n",
      "\n"
     ]
    }
   ],
   "source": [
    "# Think of two metrics to compute the disatistifaction with the group.  \n",
    "print(\"The difference between groups max restaurant score and individual max restaurant score is a \" \n",
    "      \"measure of “dissatisfaction score” for each person.\\n\")\n",
    "\n",
    "print(\"Any other scores like cost, if there is a lot of difference between group score and individual score\"\n",
    "      \"can be considered as 'dissatisfaction score' for each person.\\n\")\n"
   ]
  },
  {
   "cell_type": "code",
   "execution_count": 624,
   "metadata": {},
   "outputs": [
    {
     "name": "stdout",
     "output_type": "stream",
     "text": [
      "Since the group's optimal restaurant choice of Mayuri is not in alignment with any individual'soptimal restaurant choice, we should split into 2 groups.\n"
     ]
    }
   ],
   "source": [
    "# Should you split in two groups today? \n",
    "print(\"Since the group's optimal restaurant choice of Mayuri is not in alignment with any individual's\"\n",
    "      \"optimal restaurant choice, we should split into 2 groups.\")"
   ]
  },
  {
   "cell_type": "code",
   "execution_count": 625,
   "metadata": {},
   "outputs": [],
   "source": [
    "# Ok. Now you just found out the boss is paying for the meal. How should you adjust. Now what is best restaurant?\n",
    "\n",
    "people_dict_nocost =  {}\n",
    "M_people_nocost = []\n",
    "\n",
    "for key in people: \n",
    "    cat_dict = {}\n",
    "    valueArray = np.random.dirichlet(np.ones(len(people_cat)),size=1)\n",
    "    idx = 0\n",
    "    for cat_key in people_cat: \n",
    "        if cat_key == 'cost':\n",
    "            cat_dict[cat_key] = 0\n",
    "        else:\n",
    "            cat_dict[cat_key] = valueArray[0, idx] \n",
    "        idx += 1\n",
    "    people_dict_nocost[key] = cat_dict\n",
    "    M_people_nocost.append(valueArray[0])\n"
   ]
  },
  {
   "cell_type": "code",
   "execution_count": 629,
   "metadata": {},
   "outputs": [
    {
     "name": "stdout",
     "output_type": "stream",
     "text": [
      "\n",
      "Max restaurant score is 41.33715173425514, which is Mayuri.\n"
     ]
    }
   ],
   "source": [
    "M_people_nocost = np.array(M_people_nocost)\n",
    "\n",
    "M_people_nocost_new = np.swapaxes(M_people_nocost, 0, 1)\n",
    "M_usr_x_rest_nocost = np.matmul(M_restaurants, M_people_nocost_new)\n",
    "\n",
    "Final_Restaurant_Scores_nocost = list(np.sum(M_usr_x_rest_nocost, axis=1))\n",
    "max_Restaurant_Score_nocost = max(Final_Restaurant_Scores_nocost)\n",
    "max_Restaurant_Score_nocost_index = Final_Restaurant_Scores_nocost.index(max_Restaurant_Score_nocost)\n",
    "\n",
    "print(f\"\\nMax restaurant score is {max_Restaurant_Score_nocost}, which is {restaurants[max_Restaurant_Score_nocost_index]}.\")\n"
   ]
  },
  {
   "cell_type": "code",
   "execution_count": 630,
   "metadata": {},
   "outputs": [
    {
     "name": "stdout",
     "output_type": "stream",
     "text": [
      "We can get weight matrix by multiplying both restaurant matrix and transpose of the ordering matrix\n"
     ]
    }
   ],
   "source": [
    "# Tommorow you visit another team. You have the same restaurants and they told you their optimal ordering for restaurants. \n",
    "# Can you find their weight matrix? \n",
    "print(\"We can get weight matrix by multiplying both restaurant matrix and transpose of the ordering matrix\")"
   ]
  },
  {
   "cell_type": "code",
   "execution_count": null,
   "metadata": {},
   "outputs": [],
   "source": []
  }
 ],
 "metadata": {
  "kernelspec": {
   "display_name": "Python 3",
   "language": "python",
   "name": "python3"
  },
  "language_info": {
   "codemirror_mode": {
    "name": "ipython",
    "version": 3
   },
   "file_extension": ".py",
   "mimetype": "text/x-python",
   "name": "python",
   "nbconvert_exporter": "python",
   "pygments_lexer": "ipython3",
   "version": "3.7.6"
  }
 },
 "nbformat": 4,
 "nbformat_minor": 4
}
