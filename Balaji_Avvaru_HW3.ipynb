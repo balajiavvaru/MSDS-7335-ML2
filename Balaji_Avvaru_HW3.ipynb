{
 "cells": [
  {
   "cell_type": "code",
   "execution_count": 14,
   "metadata": {},
   "outputs": [],
   "source": [
    "import numpy as np"
   ]
  },
  {
   "cell_type": "code",
   "execution_count": 15,
   "metadata": {},
   "outputs": [],
   "source": [
    "# You asked your 10 work friends to answer a survey. They gave you back the following dictionary object. \n",
    "# Removing \"hipster points\" category to make people categories and restuarent categoties equal\n",
    "people = {'Wilke': {'willingness to travel': 1,\n",
    "                  'desire for new experience': 1,\n",
    "                  'cost': 1,\n",
    "                  'indian food':1,\n",
    "                  'mexican food':1,\n",
    "                #  'hipster points':1,\n",
    "                  'vegitarian': 1\n",
    "                  },\n",
    "\n",
    "          'Stroud': {'willingness to travel': 1,\n",
    "                  'desire for new experience': 1,\n",
    "                  'cost': 1,\n",
    "                  'indian food':1,\n",
    "                  'mexican food':1,\n",
    "                #  'hipster points':1,\n",
    "                  'vegitarian': 1\n",
    "                  },\n",
    "\n",
    "          'Kimbark': {'willingness to travel': 1,\n",
    "                  'desire for new experience': 1,\n",
    "                  'cost': 1,\n",
    "                  'indian food':1,\n",
    "                  'mexican food':1,\n",
    "                #  'hipster points':1,\n",
    "                  'vegitarian': 1\n",
    "                  },\n",
    "\n",
    "          'Adams': {'willingness to travel': 1,\n",
    "                  'desire for new experience': 1,\n",
    "                  'cost': 1,\n",
    "                  'indian food':1,\n",
    "                  'mexican food':1,\n",
    "                #  'hipster points':1,\n",
    "                  'vegitarian': 1\n",
    "                  },\n",
    "\n",
    "          'Milett': {'willingness to travel': 1,\n",
    "                  'desire for new experience': 1,\n",
    "                  'cost': 1,\n",
    "                  'indian food':1,\n",
    "                  'mexican food':1,\n",
    "                #  'hipster points':1,\n",
    "                  'vegitarian': 1\n",
    "                  },\n",
    "\n",
    "          'Cheng': {'willingness to travel': 1,\n",
    "                  'desire for new experience': 1,\n",
    "                  'cost': 1,\n",
    "                  'indian food':1,\n",
    "                  'mexican food':1,\n",
    "                #  'hipster points':1,\n",
    "                  'vegitarian': 1\n",
    "                  },\n",
    "\n",
    "          'Vasquez': {'willingness to travel': 1,\n",
    "                  'desire for new experience': 1,\n",
    "                  'cost': 1,\n",
    "                  'indian food':1,\n",
    "                  'mexican food':1,\n",
    "                #  'hipster points':1,\n",
    "                  'vegitarian': 1\n",
    "                  },\n",
    "\n",
    "          'Jiang': {'willingness to travel': 1,\n",
    "                  'desire for new experience': 1,\n",
    "                  'cost': 1,\n",
    "                  'indian food':1,\n",
    "                  'mexican food':1,\n",
    "                #  'hipster points':1,\n",
    "                  'vegitarian': 1\n",
    "                  },\n",
    "\n",
    "          'Ludlow': {'willingness to travel': 1,\n",
    "                  'desire for new experience': 1,\n",
    "                  'cost': 1,\n",
    "                  'indian food':1,\n",
    "                  'mexican food':1,\n",
    "                #  'hipster points':1,\n",
    "                  'vegitarian': 1\n",
    "                  },\n",
    "          \n",
    "          'Fogelman': {'willingness to travel': 1,\n",
    "                  'desire for new experience': 1,\n",
    "                  'cost': 1,\n",
    "                  'indian food':1,\n",
    "                  'mexican food':1,\n",
    "                #  'hipster points':1,\n",
    "                  'vegitarian': 1\n",
    "                  }\n",
    "\n",
    "          }          "
   ]
  },
  {
   "cell_type": "code",
   "execution_count": 16,
   "metadata": {},
   "outputs": [],
   "source": [
    "# Transform the user data into a matrix(M_people). Keep track of column and row ids.\n",
    "peopleKeys, peopleValues = [], []\n",
    "lastKey = 0\n",
    "for k1, v1 in people.items():\n",
    "    row = []  \n",
    "    valueArray = np.array([np.random.dirichlet(np.ones(6),size=1)])\n",
    "    idx = 0\n",
    "    for k2 in v1.keys():\n",
    "        peopleKeys.append(k1+'_'+k2)\n",
    "        if k1 == lastKey:\n",
    "            row.append(valueArray[0,0,idx])      \n",
    "            lastKey = k1\n",
    "        else:\n",
    "            peopleValues.append(row)\n",
    "            row.append(valueArray[0,0,idx])   \n",
    "            lastKey = k1\n",
    "        idx = idx + 1"
   ]
  },
  {
   "cell_type": "code",
   "execution_count": 17,
   "metadata": {},
   "outputs": [
    {
     "data": {
      "text/plain": [
       "(10, 6)"
      ]
     },
     "execution_count": 17,
     "metadata": {},
     "output_type": "execute_result"
    }
   ],
   "source": [
    "M_people = np.array(peopleValues)\n",
    "M_people.shape"
   ]
  },
  {
   "cell_type": "code",
   "execution_count": 18,
   "metadata": {},
   "outputs": [
    {
     "data": {
      "text/plain": [
       "array([[0.19456689, 0.06318444, 0.1936516 , 0.29967164, 0.09480277,\n",
       "        0.15412265],\n",
       "       [0.28867341, 0.02191111, 0.05845968, 0.1345255 , 0.31877652,\n",
       "        0.17765378],\n",
       "       [0.08445659, 0.13814497, 0.19676897, 0.00151855, 0.08498664,\n",
       "        0.49412428],\n",
       "       [0.00211234, 0.10190791, 0.45128883, 0.10086466, 0.27611696,\n",
       "        0.0677093 ],\n",
       "       [0.02919676, 0.08390057, 0.5772272 , 0.17866299, 0.08035038,\n",
       "        0.05066211],\n",
       "       [0.03222971, 0.05194114, 0.07181115, 0.28856418, 0.10794258,\n",
       "        0.44751123],\n",
       "       [0.11513905, 0.03260828, 0.14034557, 0.13105953, 0.35218059,\n",
       "        0.22866698],\n",
       "       [0.60062263, 0.07416911, 0.08213205, 0.00660651, 0.07075146,\n",
       "        0.16571825],\n",
       "       [0.06437227, 0.07911242, 0.16718587, 0.06092421, 0.6086172 ,\n",
       "        0.01978804],\n",
       "       [0.3324584 , 0.19357228, 0.15988063, 0.04940525, 0.14998033,\n",
       "        0.1147031 ]])"
      ]
     },
     "execution_count": 18,
     "metadata": {},
     "output_type": "execute_result"
    }
   ],
   "source": [
    "M_people"
   ]
  },
  {
   "cell_type": "code",
   "execution_count": 19,
   "metadata": {},
   "outputs": [],
   "source": [
    "valueArrayFlacos = np.random.randint(5, size=6)+1\n",
    "valueArrayAnamias = np.random.randint(5, size=6)+1\n",
    "valueArrayChilis = np.random.randint(5, size=6)+1\n",
    "valueArrayBlueFish = np.random.randint(5, size=6)+1\n",
    "valueArrayCheesecakeFactory = np.random.randint(5, size=6)+1\n",
    "valueArrayTacoBell = np.random.randint(5, size=6)+1\n",
    "valueArrayBurgerKing = np.random.randint(5, size=6)+1\n",
    "valueArrayPanchos = np.random.randint(5, size=6)+1\n",
    "valueArrayMcDonalds = np.random.randint(5, size=6)+1\n",
    "valueArrayWingStop = np.random.randint(5, size=6)+1"
   ]
  },
  {
   "cell_type": "code",
   "execution_count": 20,
   "metadata": {},
   "outputs": [],
   "source": [
    "# Next you collected data from an internet website. You got the following information.\n",
    "restaurants  = {'Flacos':{'distance' : valueArrayFlacos[0],\n",
    "                        'novelty' : valueArrayFlacos[1],\n",
    "                        'cost':  valueArrayFlacos[2],\n",
    "                        'average rating': valueArrayFlacos[3],\n",
    "                        'cuisine':valueArrayFlacos[4],\n",
    "                        'vegitarians': valueArrayFlacos[5]\n",
    "                        },\n",
    "\n",
    "              'Anamias':{'distance' : valueArrayAnamias[0],\n",
    "                        'novelty' : valueArrayAnamias[1],\n",
    "                        'cost':  valueArrayAnamias[2],\n",
    "                        'average rating': valueArrayAnamias[3],\n",
    "                        'cuisine':valueArrayAnamias[4],\n",
    "                        'vegitarians': valueArrayAnamias[5]\n",
    "                        },\n",
    "\n",
    "              'Chilis':{'distance' : valueArrayChilis[0],\n",
    "                        'novelty' : valueArrayChilis[1],\n",
    "                        'cost':  valueArrayChilis[2],\n",
    "                        'average rating': valueArrayChilis[3],\n",
    "                        'cuisine':valueArrayChilis[4],\n",
    "                        'vegitarians': valueArrayChilis[5]\n",
    "                        },\n",
    "\n",
    "              'BlueFish':{'distance' : valueArrayBlueFish[0],\n",
    "                        'novelty' : valueArrayBlueFish[1],\n",
    "                        'cost':  valueArrayBlueFish[2],\n",
    "                        'average rating': valueArrayBlueFish[3],\n",
    "                        'cuisine':valueArrayBlueFish[4],\n",
    "                        'vegitarians': valueArrayBlueFish[5]\n",
    "                        },\n",
    "\n",
    "              'CheesecakeFactory':{'distance' : valueArrayCheesecakeFactory[0],\n",
    "                        'novelty' : valueArrayCheesecakeFactory[1],\n",
    "                        'cost':  valueArrayCheesecakeFactory[2],\n",
    "                        'average rating': valueArrayCheesecakeFactory[3],\n",
    "                        'cuisine':valueArrayCheesecakeFactory[4],\n",
    "                        'vegitarians': valueArrayCheesecakeFactory[5]\n",
    "                        },\n",
    "\n",
    "              'TacoBell':{'distance' : valueArrayTacoBell[0],\n",
    "                        'novelty' : valueArrayTacoBell[1],\n",
    "                        'cost':  valueArrayTacoBell[2],\n",
    "                        'average rating': valueArrayTacoBell[3],\n",
    "                        'cuisine':valueArrayTacoBell[4],\n",
    "                        'vegitarians': valueArrayTacoBell[5]\n",
    "                        },\n",
    "\n",
    "              'BurgerKing':{'distance' : valueArrayBurgerKing[0],\n",
    "                        'novelty' : valueArrayBurgerKing[1],\n",
    "                        'cost':  valueArrayBurgerKing[2],\n",
    "                        'average rating': valueArrayBurgerKing[3],\n",
    "                        'cuisine':valueArrayBurgerKing[4],\n",
    "                        'vegitarians': valueArrayBurgerKing[5]\n",
    "                        },\n",
    "\n",
    "              'Panchos':{'distance' : valueArrayPanchos[0],\n",
    "                        'novelty' : valueArrayPanchos[1],\n",
    "                        'cost':  valueArrayPanchos[2],\n",
    "                        'average rating': valueArrayPanchos[3],\n",
    "                        'cuisine':valueArrayPanchos[4],\n",
    "                        'vegitarians': valueArrayPanchos[5]\n",
    "                        },\n",
    "\n",
    "              'McDonalds':{'distance' : valueArrayMcDonalds[0],\n",
    "                        'novelty' : valueArrayMcDonalds[1],\n",
    "                        'cost':  valueArrayMcDonalds[2],\n",
    "                        'average rating': valueArrayMcDonalds[3],\n",
    "                        'cuisine':valueArrayMcDonalds[4],\n",
    "                        'vegitarians': valueArrayMcDonalds[5]\n",
    "                        },\n",
    "\n",
    "              'WingStop':{'distance' : valueArrayWingStop[0],\n",
    "                        'novelty' : valueArrayWingStop[1],\n",
    "                        'cost':  valueArrayWingStop[2],\n",
    "                        'average rating': valueArrayWingStop[3],\n",
    "                        'cuisine':valueArrayWingStop[4],\n",
    "                        'vegitarians': valueArrayWingStop[5]\n",
    "                        }\n",
    "\n",
    "}"
   ]
  },
  {
   "cell_type": "code",
   "execution_count": 21,
   "metadata": {},
   "outputs": [],
   "source": [
    " # Transform the restaurant data into a matrix(M_resturants) use the same column index.\n",
    "restaurantsKeys, restaurantsValues = [], []\n",
    "for k1, v1 in restaurants.items():\n",
    "    for k2, v2 in v1.items():\n",
    "        restaurantsKeys.append(k1+'_'+k2)\n",
    "        restaurantsValues.append(v2)"
   ]
  },
  {
   "cell_type": "code",
   "execution_count": 36,
   "metadata": {},
   "outputs": [
    {
     "data": {
      "text/plain": [
       "(10, 6)"
      ]
     },
     "execution_count": 36,
     "metadata": {},
     "output_type": "execute_result"
    }
   ],
   "source": [
    "M_restaurants = np.reshape(restaurantsValues, (10,6))\n",
    "M_restaurants\n",
    "M_restaurants.shape"
   ]
  },
  {
   "cell_type": "code",
   "execution_count": 23,
   "metadata": {},
   "outputs": [
    {
     "name": "stdout",
     "output_type": "stream",
     "text": [
      "In a linear combination we are multiplying each term by a constant and summing the results.This relates to our restaurant matrix because multiplying our people matrix by the restaurant matrix will give usa 'restaurant score' for each person that we can use to optimize lunch choice.\n"
     ]
    }
   ],
   "source": [
    "# The most imporant idea in this project is the idea of a linear combination.  \n",
    "\n",
    "# Informally describe what a linear combination is  and how it will relate to our resturant matrix.\n",
    "\n",
    "print(\"In a linear combination we are multiplying each term by a constant and summing the results.\" + \n",
    "      \"This relates to our restaurant matrix because multiplying our people matrix by the restaurant matrix will give us\" + \n",
    "      \"a 'restaurant score' for each person that we can use to optimize lunch choice.\")"
   ]
  },
  {
   "cell_type": "code",
   "execution_count": 24,
   "metadata": {},
   "outputs": [],
   "source": [
    "# Choose a person and compute(using a linear combination) the top restaurant for them.  What does each entry in the resulting vector represent. \n",
    "#We will compute Janes scores for each restaurant.\n",
    "flacoScore = M_people[0,0] * M_restaurants[0,0] + M_people[0,1] * M_restaurants[0,1] + M_people[0,2] * M_restaurants[0,2] + M_people[0,3] * M_restaurants[0,3]\n",
    "anamiasScore = M_people[0,0] * M_restaurants[1,0] + M_people[0,1] * M_restaurants[1,1] + M_people[0,2] * M_restaurants[1,2] + M_people[0,3] * M_restaurants[1,3]\n",
    "chilisScore = M_people[0,0] * M_restaurants[2,0] + M_people[0,1] * M_restaurants[2,1] + M_people[0,2] * M_restaurants[2,2] + M_people[0,3] * M_restaurants[2,3]\n",
    "blueFishScore = M_people[0,0] * M_restaurants[3,0] + M_people[0,1] * M_restaurants[3,1] + M_people[0,2] * M_restaurants[3,2] + M_people[0,3] * M_restaurants[3,3]\n",
    "cheesecakeFactoryScore = M_people[0,0] * M_restaurants[4,0] + M_people[0,1] * M_restaurants[4,1] + M_people[0,2] * M_restaurants[4,2] + M_people[0,3] * M_restaurants[4,3]\n",
    "tacoBellScore = M_people[0,0] * M_restaurants[5,0] + M_people[0,1] * M_restaurants[5,1] + M_people[0,2] * M_restaurants[5,2] + M_people[0,3] * M_restaurants[5,3]\n",
    "burgerKingScore = M_people[0,0] * M_restaurants[6,0] + M_people[0,1] * M_restaurants[6,1] + M_people[0,2] * M_restaurants[6,2] + M_people[0,3] * M_restaurants[6,3]\n",
    "panchosScore = M_people[0,0] * M_restaurants[7,0] + M_people[0,1] * M_restaurants[7,1] + M_people[0,2] * M_restaurants[7,2] + M_people[0,3] * M_restaurants[7,3]\n",
    "mcDonaldsScore = M_people[0,0] * M_restaurants[8,0] + M_people[0,1] * M_restaurants[8,1] + M_people[0,2] * M_restaurants[8,2] + M_people[0,3] * M_restaurants[8,3]\n",
    "wingStopScore = M_people[0,0] * M_restaurants[9,0] + M_people[0,1] * M_restaurants[9,1] + M_people[0,2] * M_restaurants[9,2] + M_people[0,3] * M_restaurants[9,3]"
   ]
  },
  {
   "cell_type": "code",
   "execution_count": 25,
   "metadata": {},
   "outputs": [
    {
     "name": "stdout",
     "output_type": "stream",
     "text": [
      "Jane's max restaurant score is 3.3293323472061065, which is Panchos.\n"
     ]
    }
   ],
   "source": [
    "janeScoreArray = np.array([flacoScore, anamiasScore, chilisScore, blueFishScore, cheesecakeFactoryScore, tacoBellScore, burgerKingScore, panchosScore, mcDonaldsScore, wingStopScore])\n",
    "maxJaneScore = np.amax(janeScoreArray)\n",
    "indexMaxJaneScore = np.where(janeScoreArray == maxJaneScore)\n",
    "try:    \n",
    "    print(f\"Jane's max restaurant score is {maxJaneScore}, which is {list(restaurants.keys())[indexMaxJaneScore[0][0]]}.\")\n",
    "except:\n",
    "    print(\"Crazy bizarro world where there were duplicate max scores for Jane. Re-run program.\")\n"
   ]
  },
  {
   "cell_type": "code",
   "execution_count": 26,
   "metadata": {},
   "outputs": [
    {
     "name": "stdout",
     "output_type": "stream",
     "text": [
      "[[1.92058473 1.99785951 2.47207041 2.82824461 2.61751897 1.96284214\n",
      "  2.31154415 1.69399259 2.80873142 2.31514188]\n",
      " [3.30524312 3.34715063 2.43658764 3.94348045 4.07877675 2.33683099\n",
      "  3.25806855 3.43003259 3.8886727  3.3792215 ]\n",
      " [3.53022998 2.79398608 3.30718283 3.85260928 4.04396079 3.68836239\n",
      "  3.23740309 2.04243801 3.3185146  2.98091891]\n",
      " [2.44588367 2.7282388  2.73983981 1.95920348 1.6992098  3.16777693\n",
      "  2.76762022 2.2524933  2.4628192  2.07533888]\n",
      " [2.58573466 2.56862662 2.20700186 3.21500557 3.29724    1.88822451\n",
      "  2.55195209 2.74408905 3.06668557 2.88106917]\n",
      " [2.10105869 2.42494546 1.89026626 2.1996974  1.73293977 2.40040849\n",
      "  2.5799361  1.46535474 3.04660047 1.85702689]\n",
      " [2.23023127 2.00644546 2.05809396 2.07537631 2.44217301 1.94415713\n",
      "  1.87069574 2.53783411 1.54382852 2.14878641]\n",
      " [3.98130585 3.51001515 3.47898304 3.73155004 4.31116053 3.38870332\n",
      "  3.28984817 4.30136441 2.91542328 3.88410297]\n",
      " [2.14524452 1.79167984 3.09509527 2.06100513 2.15957822 2.85873246\n",
      "  2.05523087 1.80840062 1.52481146 2.13411204]\n",
      " [2.64688513 2.88793133 2.39151474 2.10824493 2.17149086 2.14863026\n",
      "  2.37802543 3.87603701 2.27222922 3.19094748]]\n",
      "In M_usr_x_rest, the rows represent restaurants and the columns represent people.\n"
     ]
    }
   ],
   "source": [
    "# Next compute a new matrix (M_usr_x_rest  i.e. an user by restaurant) from all people.  What does the a_ij matrix represent? \n",
    "M_new_people = np.swapaxes(M_people, 0, 1)\n",
    "M_usr_x_rest = np.matmul(M_restaurants, M_new_people)\n",
    "print(M_usr_x_rest)\n",
    "print(\"In M_usr_x_rest, the rows represent restaurants and the columns represent people.\")"
   ]
  },
  {
   "cell_type": "code",
   "execution_count": 27,
   "metadata": {},
   "outputs": [
    {
     "name": "stdout",
     "output_type": "stream",
     "text": [
      "[22.9285304  33.4040649  32.79560595 24.2984241  27.0056291  21.69823428\n",
      " 20.85762192 36.79245677 21.63389043 26.07193639]\n",
      "The entries represent the total score for each restaurant.\n",
      "Max restaurant score is 36.792456768522975, which is Panchos.\n"
     ]
    }
   ],
   "source": [
    "# Sum all columns in M_usr_x_rest to get optimal restaurant for all users.  What do the entry’s represent?\n",
    "print(np.sum(M_usr_x_rest, axis=1))\n",
    "print(\"The entries represent the total score for each restaurant.\")\n",
    "\n",
    "maxRestaurantScore = np.amax(np.sum(M_usr_x_rest, axis=1))\n",
    "indexMaxRestaurantScore = np.where(np.sum(M_usr_x_rest, axis=1) == maxRestaurantScore)\n",
    "try:    \n",
    "    print(f\"Max restaurant score is {maxRestaurantScore}, which is {list(restaurants.keys())[indexMaxRestaurantScore[0][0]]}.\")\n",
    "except:\n",
    "    print(\"Crazy bizarro world where there were duplicate max scores for restaurants. Re-run program.\")\n"
   ]
  },
  {
   "cell_type": "code",
   "execution_count": 28,
   "metadata": {},
   "outputs": [
    {
     "name": "stdout",
     "output_type": "stream",
     "text": [
      "[1 2 4 0 0 1 2 5 0 4]\n",
      "Max restaurant score for Wilke is Anamias.\n",
      "Max restaurant score for Stroud is Chilis.\n",
      "Max restaurant score for Kimbark is CheesecakeFactory.\n",
      "Max restaurant score for Adams is Flacos.\n",
      "Max restaurant score for Milett is Flacos.\n",
      "Max restaurant score for Cheng is Anamias.\n",
      "Max restaurant score for Vasquez is Chilis.\n",
      "Max restaurant score for Jiang is TacoBell.\n",
      "Max restaurant score for Ludlow is Flacos.\n",
      "Max restaurant score for Fogelman is CheesecakeFactory.\n"
     ]
    }
   ],
   "source": [
    "# Now convert each row in the M_usr_x_rest into a ranking for each user and call it M_usr_x_rest_rank.   Do the same as above to generate the optimal resturant choice.  \n",
    "sortedResults = M_usr_x_rest.argsort()[::-1]\n",
    "sortedResults\n",
    "\n",
    "maxRowIndex = np.argmax(sortedResults, axis=0)\n",
    "print(maxRowIndex)\n",
    "\n",
    "for i, optimalRestaurant in enumerate(maxRowIndex):\n",
    "    print(f\"Max restaurant score for {list(people.keys())[i]} is {list(restaurants.keys())[optimalRestaurant]}.\")"
   ]
  },
  {
   "cell_type": "code",
   "execution_count": 29,
   "metadata": {},
   "outputs": [
    {
     "name": "stdout",
     "output_type": "stream",
     "text": [
      "There is a difference because there may be groups of people with similar optimal choices. This represents the real world situation where taking all people into account, the entire group cannot make an optimal choice as each restaurant may be optimal for a sub group of people.\n"
     ]
    }
   ],
   "source": [
    "# Why is there a difference between the two?  What problem arrives?  What does represent in the real world?\n",
    "print(\"There is a difference because there may be groups of people with similar optimal choices.\",\n",
    "      \"This represents the real world situation where taking all people into account, the entire group cannot make an optimal choice\", \n",
    "      \"as each restaurant may be optimal for a sub group of people.\")"
   ]
  },
  {
   "cell_type": "code",
   "execution_count": 30,
   "metadata": {},
   "outputs": [
    {
     "name": "stdout",
     "output_type": "stream",
     "text": [
      "We should pre-process our data so we take groups of people into account.\n"
     ]
    }
   ],
   "source": [
    "# How should you preprocess your data to remove this problem. \n",
    "print(\"We should pre-process our data so we take groups of people into account.\")"
   ]
  },
  {
   "cell_type": "code",
   "execution_count": 31,
   "metadata": {},
   "outputs": [
    {
     "name": "stdout",
     "output_type": "stream",
     "text": [
      "[[0.19456689 0.06318444 0.1936516  0.29967164 0.09480277 0.15412265]\n",
      " [0.28867341 0.02191111 0.05845968 0.1345255  0.31877652 0.17765378]\n",
      " [0.08445659 0.13814497 0.19676897 0.00151855 0.08498664 0.49412428]\n",
      " [0.00211234 0.10190791 0.45128883 0.10086466 0.27611696 0.0677093 ]\n",
      " [0.02919676 0.08390057 0.5772272  0.17866299 0.08035038 0.05066211]\n",
      " [0.03222971 0.05194114 0.07181115 0.28856418 0.10794258 0.44751123]\n",
      " [0.11513905 0.03260828 0.14034557 0.13105953 0.35218059 0.22866698]\n",
      " [0.60062263 0.07416911 0.08213205 0.00660651 0.07075146 0.16571825]\n",
      " [0.06437227 0.07911242 0.16718587 0.06092421 0.6086172  0.01978804]\n",
      " [0.3324584  0.19357228 0.15988063 0.04940525 0.14998033 0.1147031 ]]\n",
      "dict_keys(['Wilke', 'Stroud', 'Kimbark', 'Adams', 'Milett', 'Cheng', 'Vasquez', 'Jiang', 'Ludlow', 'Fogelman'])\n",
      "People will very low scores for certain criteria could be problematic. Andy has a value of 0.007 for willingness to travel which could be problematic. Daniel has a value of 0.001 for desire for new experience which could be problematic. These low criteria scores could make it difficult for an optimal restaurant choice to be found for the group.\n"
     ]
    }
   ],
   "source": [
    "# Find  user profiles that are problematic, explain why?\n",
    "print(M_people)\n",
    "print(people.keys())\n",
    "print(\"People will very low scores for certain criteria could be problematic. Andy has a value of 0.007\", \n",
    "      \"for willingness to travel which could be problematic. Daniel has a value of 0.001 for desire for new experience\",\n",
    "      \"which could be problematic. These low criteria scores could make it difficult for an optimal restaurant choice to be found for the group.\")"
   ]
  },
  {
   "cell_type": "code",
   "execution_count": 32,
   "metadata": {},
   "outputs": [
    {
     "name": "stdout",
     "output_type": "stream",
     "text": [
      "We could take the difference between the group’s optimal restaurant score, and each individual’s optimal restaurant score. The difference between these values could be considered a “dissatisfaction score” for each person.\n",
      "\n",
      "We could also look at highly ranked criteria for each person and determine if that was in alignment with the group's restaurant choice. For example, if cost > .75 for an individual, if the chosen restaurant is not highly ranked with cost we could consider that dissatisfaction.\n"
     ]
    }
   ],
   "source": [
    "# Think of two metrics to compute the disatistifaction with the group.  \n",
    "print(\"We could take the difference between the group’s optimal restaurant score, and each individual’s optimal restaurant score.\",\n",
    "      \"The difference between these values could be considered a “dissatisfaction score” for each person.\\n\")\n",
    "print(\"We could also look at highly ranked criteria for each person and determine if that was in alignment with the group's restaurant choice.\",\n",
    "      \"For example, if cost > .75 for an individual, if the chosen restaurant is not highly ranked with cost we could consider that dissatisfaction.\")"
   ]
  },
  {
   "cell_type": "code",
   "execution_count": 33,
   "metadata": {},
   "outputs": [
    {
     "name": "stdout",
     "output_type": "stream",
     "text": [
      "Since the group's optimal restaurant choice of Cheesecake Factory is not in alignment with any individual's optimal restaurant choice, we should split into 2 groups.\n"
     ]
    }
   ],
   "source": [
    "# Should you split in two groups today? \n",
    "print(\"Since the group's optimal restaurant choice of Cheesecake Factory is not in alignment with any individual's optimal restaurant choice, we should split into 2 groups.\")"
   ]
  },
  {
   "cell_type": "code",
   "execution_count": 34,
   "metadata": {},
   "outputs": [
    {
     "ename": "NameError",
     "evalue": "name 'valueArrayJane' is not defined",
     "output_type": "error",
     "traceback": [
      "\u001b[1;31m---------------------------------------------------------------------------\u001b[0m",
      "\u001b[1;31mNameError\u001b[0m                                 Traceback (most recent call last)",
      "\u001b[1;32m<ipython-input-34-0b7c61252e86>\u001b[0m in \u001b[0;36m<module>\u001b[1;34m\u001b[0m\n\u001b[0;32m      1\u001b[0m \u001b[1;31m# Ok. Now you just found out the boss is paying for the meal. How should you adjust. Now what is best restaurant?\u001b[0m\u001b[1;33m\u001b[0m\u001b[1;33m\u001b[0m\u001b[1;33m\u001b[0m\u001b[0m\n\u001b[1;32m----> 2\u001b[1;33m people = {'Wilke': {'willingness to travel': valueArrayJane[0,0,0],\n\u001b[0m\u001b[0;32m      3\u001b[0m                   \u001b[1;34m'desire for new experience'\u001b[0m\u001b[1;33m:\u001b[0m \u001b[0mvalueArrayJane\u001b[0m\u001b[1;33m[\u001b[0m\u001b[1;36m0\u001b[0m\u001b[1;33m,\u001b[0m\u001b[1;36m0\u001b[0m\u001b[1;33m,\u001b[0m\u001b[1;36m1\u001b[0m\u001b[1;33m]\u001b[0m\u001b[1;33m,\u001b[0m\u001b[1;33m\u001b[0m\u001b[1;33m\u001b[0m\u001b[0m\n\u001b[0;32m      4\u001b[0m                   \u001b[1;34m'cost'\u001b[0m\u001b[1;33m:\u001b[0m \u001b[1;36m0.0\u001b[0m\u001b[1;33m,\u001b[0m\u001b[1;33m\u001b[0m\u001b[1;33m\u001b[0m\u001b[0m\n\u001b[0;32m      5\u001b[0m                   \u001b[1;34m'indian food'\u001b[0m\u001b[1;33m:\u001b[0m\u001b[0mvalueArrayJane\u001b[0m\u001b[1;33m[\u001b[0m\u001b[1;36m0\u001b[0m\u001b[1;33m,\u001b[0m\u001b[1;36m0\u001b[0m\u001b[1;33m,\u001b[0m\u001b[1;36m3\u001b[0m\u001b[1;33m]\u001b[0m\u001b[1;33m,\u001b[0m\u001b[1;33m\u001b[0m\u001b[1;33m\u001b[0m\u001b[0m\n",
      "\u001b[1;31mNameError\u001b[0m: name 'valueArrayJane' is not defined"
     ]
    }
   ],
   "source": [
    "# Ok. Now you just found out the boss is paying for the meal. How should you adjust. Now what is best restaurant?\n",
    "people = {'Wilke': {'willingness to travel': valueArrayJane[0,0,0],\n",
    "                  'desire for new experience': valueArrayJane[0,0,1],\n",
    "                  'cost': 0.0,\n",
    "                  'indian food':valueArrayJane[0,0,3],\n",
    "                  'mexican food':valueArrayJane[0,0,4],\n",
    "                  #'hipster points':\n",
    "                  'vegitarian': valueArrayJane[0,0,5]\n",
    "                  },\n",
    "\n",
    "          'Stroud': {'willingness to travel': valueArrayJack[0,0,0],\n",
    "                  'desire for new experience': valueArrayJack[0,0,1],\n",
    "                  'cost': 0.0,\n",
    "                  'indian food':valueArrayJack[0,0,3],\n",
    "                  'mexican food':valueArrayJack[0,0,4],\n",
    "                  #'hipster points':\n",
    "                  'vegitarian': valueArrayJack[0,0,5]\n",
    "                  },\n",
    "\n",
    "          'Kimbark': {'willingness to travel': valueArrayJill[0,0,0],\n",
    "                  'desire for new experience': valueArrayJill[0,0,1],\n",
    "                  'cost': 0.0,\n",
    "                  'indian food':valueArrayJill[0,0,3],\n",
    "                  'mexican food':valueArrayJill[0,0,4],\n",
    "                  #'hipster points':\n",
    "                  'vegitarian': valueArrayJill[0,0,5]\n",
    "                  },\n",
    "\n",
    "          'Adams': {'willingness to travel': valueArrayTim[0,0,0],\n",
    "                  'desire for new experience': valueArrayTim[0,0,1],\n",
    "                  'cost': 0.0,\n",
    "                  'indian food':valueArrayTim[0,0,3],\n",
    "                  'mexican food':valueArrayTim[0,0,4],\n",
    "                  #'hipster points':\n",
    "                  'vegitarian': valueArrayTim[0,0,5]\n",
    "                  },\n",
    "\n",
    "          'Milett': {'willingness to travel': valueArrayBob[0,0,0],\n",
    "                  'desire for new experience': valueArrayBob[0,0,1],\n",
    "                  'cost': 0.0,\n",
    "                  'indian food':valueArrayBob[0,0,3],\n",
    "                  'mexican food':valueArrayBob[0,0,4],\n",
    "                  #'hipster points':\n",
    "                  'vegitarian': valueArrayBob[0,0,5]\n",
    "                  },\n",
    "\n",
    "          'Cheng': {'willingness to travel': valueArrayAndy[0,0,0],\n",
    "                  'desire for new experience': valueArrayAndy[0,0,1],\n",
    "                  'cost': 0.0,\n",
    "                  'indian food':valueArrayAndy[0,0,3],\n",
    "                  'mexican food':valueArrayAndy[0,0,4],\n",
    "                  #'hipster points':\n",
    "                  'vegitarian': valueArrayAndy[0,0,5]\n",
    "                  },\n",
    "\n",
    "          'Vasquez': {'willingness to travel': valueArrayCharlie[0,0,0],\n",
    "                  'desire for new experience': valueArrayCharlie[0,0,1],\n",
    "                  'cost': 0.0,\n",
    "                  'indian food':valueArrayCharlie[0,0,3],\n",
    "                  'mexican food':valueArrayCharlie[0,0,4],\n",
    "                  #'hipster points':\n",
    "                  'vegitarian': valueArrayCharlie[0,0,5]\n",
    "                  },\n",
    "\n",
    "          'Jiang': {'willingness to travel': valueArrayPete[0,0,0],\n",
    "                  'desire for new experience': valueArrayPete[0,0,1],\n",
    "                  'cost': 0.0,\n",
    "                  'indian food':valueArrayPete[0,0,3],\n",
    "                  'mexican food':valueArrayPete[0,0,4],\n",
    "                  #'hipster points':\n",
    "                  'vegitarian': valueArrayPete[0,0,5]\n",
    "                  },\n",
    "\n",
    "          'Ludlow': {'willingness to travel': valueArrayDaniel[0,0,0],\n",
    "                  'desire for new experience': valueArrayDaniel[0,0,1],\n",
    "                  'cost': 0.0,\n",
    "                  'indian food':valueArrayDaniel[0,0,3],\n",
    "                  'mexican food':valueArrayDaniel[0,0,4],\n",
    "                  #'hipster points':\n",
    "                  'vegitarian': valueArrayDaniel[0,0,5]\n",
    "                  },\n",
    "\n",
    "          'Fogelman': {'willingness to travel': valueArrayBrad[0,0,0],\n",
    "                  'desire for new experience': valueArrayBrad[0,0,1],\n",
    "                  'cost': 0.0,\n",
    "                  'indian food':valueArrayBrad[0,0,3],\n",
    "                  'mexican food':valueArrayBrad[0,0,4],\n",
    "                  #'hipster points':\n",
    "                  'vegitarian': valueArrayBrad[0,0,5]\n",
    "                  }\n",
    "          }          "
   ]
  },
  {
   "cell_type": "code",
   "execution_count": null,
   "metadata": {},
   "outputs": [],
   "source": [
    "peopleKeys, peopleValues = [], []\n",
    "lastKey = 0\n",
    "for k1, v1 in people.items():\n",
    "    row = []\n",
    "    \n",
    "    for k2, v2 in v1.items():\n",
    "        peopleKeys.append(k1+'_'+k2)\n",
    "        if k1 == lastKey:\n",
    "            row.append(v2)      \n",
    "            lastKey = k1\n",
    "        else:\n",
    "            peopleValues.append(row)\n",
    "            row.append(v2)   \n",
    "            lastKey = k1\n",
    "\n",
    "M_people = np.array(peopleValues)\n",
    "M_new_people = np.swapaxes(M_people, 0, 1)\n",
    "M_usr_x_rest = np.matmul(M_restaurants, M_new_people)\n",
    "\n",
    "print(M_usr_x_rest)\n",
    "print(np.sum(M_usr_x_rest, axis=1))"
   ]
  },
  {
   "cell_type": "code",
   "execution_count": null,
   "metadata": {},
   "outputs": [],
   "source": [
    "maxRestaurantScore = np.amax(np.sum(M_usr_x_rest, axis=1))\n",
    "indexMaxRestaurantScore = np.where(np.sum(M_usr_x_rest, axis=1) == maxRestaurantScore)\n",
    "print(\"If the boss is paying, then cost consideration is no longer a factor. We should set this criteria to 0 for each person and re-run.\")\n",
    "\n",
    "try:    \n",
    "    print(f\"Max restaurant score when cost is 0 is {maxRestaurantScore}, which is {list(restaurants.keys())[indexMaxRestaurantScore[0][0]]}.\")\n",
    "except:\n",
    "    print(\"Crazy bizarro world where there were duplicate max scores for restaurants. Re-run program.\")"
   ]
  },
  {
   "cell_type": "code",
   "execution_count": null,
   "metadata": {},
   "outputs": [],
   "source": [
    "# Tommorow you visit another team. You have the same restaurants and they told you their optimal ordering for restaurants.  Can you find their weight matrix? \n",
    "print(\"Yes, you could multiply the restaurant matrix by the transpose of the ordering matrix to find the weight matrix.\")"
   ]
  },
  {
   "cell_type": "code",
   "execution_count": null,
   "metadata": {},
   "outputs": [],
   "source": []
  }
 ],
 "metadata": {
  "kernelspec": {
   "display_name": "Python 3",
   "language": "python",
   "name": "python3"
  },
  "language_info": {
   "codemirror_mode": {
    "name": "ipython",
    "version": 3
   },
   "file_extension": ".py",
   "mimetype": "text/x-python",
   "name": "python",
   "nbconvert_exporter": "python",
   "pygments_lexer": "ipython3",
   "version": "3.7.6"
  }
 },
 "nbformat": 4,
 "nbformat_minor": 4
}
