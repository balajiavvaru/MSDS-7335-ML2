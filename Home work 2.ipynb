{
 "cells": [
  {
   "cell_type": "code",
   "execution_count": 1,
   "metadata": {},
   "outputs": [],
   "source": [
    "#import sys\n",
    "\n",
    "import numpy as np\n",
    "from sklearn.metrics import accuracy_score\n",
    "from sklearn.metrics import precision_score\n",
    "from sklearn.metrics import recall_score\n",
    "from sklearn.ensemble import RandomForestClassifier\n",
    "from sklearn.linear_model import LogisticRegression\n",
    "from sklearn.neighbors import KNeighborsClassifier\n",
    "from sklearn.model_selection import KFold \n",
    "from sklearn.model_selection import GridSearchCV\n",
    "from sklearn import datasets\n",
    "from itertools import product\n",
    "import matplotlib.pyplot as plt\n",
    "import seaborn as sns\n",
    "import statistics\n",
    "import json\n",
    "import warnings\n",
    "warnings.filterwarnings('ignore')"
   ]
  },
  {
   "cell_type": "markdown",
   "metadata": {},
   "source": [
    "**The following function fit the model for each combination of parameters and  returns accuracy, precision, recall for each model."
   ]
  },
  {
   "cell_type": "code",
   "execution_count": 40,
   "metadata": {},
   "outputs": [],
   "source": [
    "# The following function fit the model for each combination of parameters and returns accuracy, precision, recall \n",
    "# for each model.\n",
    "\n",
    "def run(a_clf, data, clf_hyper={}):\n",
    "    # unpack independent features, dependent feature and number of folds \n",
    "    X, Y, number_folds = data \n",
    "    # cross validation\n",
    "    cv = KFold(n_splits=number_folds, random_state=1234)  \n",
    "    ret = {}  \n",
    "      \n",
    "    for ids, (train_index, test_index) in enumerate(cv.split(X, Y)): \n",
    "        # unpack parameters\n",
    "        clf = a_clf(**clf_hyper) \n",
    "        \n",
    "        # fit the model with a fold\n",
    "        clf.fit(X[train_index], Y[train_index])   \n",
    "                   \n",
    "        # predict for test data\n",
    "        pred = clf.predict(X[test_index])           \n",
    "        \n",
    "        # append metrics to a dictionary\n",
    "        ret[ids]= {'clf': clf,                     \n",
    "        #       'train_index': train_index,\n",
    "        #       'test_index': test_index,\n",
    "               'accuracy': accuracy_score(Y[test_index], pred),  \n",
    "               'precision': precision_score(Y[test_index], pred), \n",
    "         #      'recall': recall_score(Y[test_index], pred) \n",
    "               }    \n",
    "    return ret\n"
   ]
  },
  {
   "cell_type": "markdown",
   "metadata": {},
   "source": [
    "**The following function takes hyper parameter dictionary and creates all possible combinations of hyper parameter for each classification model "
   ]
  },
  {
   "cell_type": "code",
   "execution_count": 41,
   "metadata": {},
   "outputs": [],
   "source": [
    "# The following function takes hyper parameter dictionary and creates all possible combinations of hyper parameter \n",
    "# for each classification model \n",
    "def Clf_Hyperparams(clfsList):\n",
    "    ret_hyper = dict();\n",
    "    for clf in clfsList:\n",
    "        # convert the classifier to string\n",
    "        clfString = str(clf)  \n",
    "        \n",
    "        # Iterate all hyper parameters\n",
    "        for k1, v1 in clf_Dict.items():   \n",
    "            if k1 in clfString: \n",
    "                ret_hyper[clf] = [dict(zip(v1, s)) for s in product(*v1.values())]\n",
    "\n",
    "    return ret_hyper   "
   ]
  },
  {
   "cell_type": "code",
   "execution_count": 42,
   "metadata": {},
   "outputs": [],
   "source": [
    "#load Breast Cancer Data Set from sklearn\n",
    "cancer = datasets.load_breast_cancer()\n",
    "\n",
    "#independent features \n",
    "X = cancer.data\n",
    "\n",
    "# Dependent feature \n",
    "Y = cancer.target\n",
    "\n",
    "# Enter: Number of folds (k-fold) cross validation\n",
    "number_folds = 10\n",
    "\n",
    "#Pack independent features, dependent feature and number of folds into a variable 'data'\n",
    "data = (X,Y,number_folds)"
   ]
  },
  {
   "cell_type": "code",
   "execution_count": 43,
   "metadata": {},
   "outputs": [],
   "source": [
    "# List of Classifiers \n",
    "clf_List = [RandomForestClassifier, LogisticRegression, KNeighborsClassifier]\n",
    "#clf_List = [RandomForestClassifier]\n",
    "\n",
    "# Dictionary of parameters for each classifier\n",
    "\n",
    "clf_Dict = {'RandomForestClassifier': {\n",
    "                    \"n_estimators\": [100, 150, 200],\n",
    "                    \"max_depth\": [5, 10, 15, 20],\n",
    "                    \"min_samples_leaf\": [3, 4, 5]},\n",
    "            'LogisticRegression': {\n",
    "                    \"solver\": ['newton-cg', 'lbfgs', 'liblinear'],\n",
    "                    \"C\" :[0.001, 0.01, 0.1, 1, 10, 100, 1000],\n",
    "                    \"max_iter\": [500,1500,2000]},\n",
    "            'KNeighborsClassifier': {\n",
    "                    \"n_neighbors\": [5, 13,15,17],\n",
    "                    \"metric\": ['minkowski','euclidean', 'manhattan'],\n",
    "                   \"weights\": ['uniform','distance']}}\n",
    "         "
   ]
  },
  {
   "cell_type": "code",
   "execution_count": 44,
   "metadata": {},
   "outputs": [],
   "source": [
    "# create dictionary with all possible combinations of parameters\n",
    "hyper_param_dict = dict()\n",
    "for clf in clf_List:\n",
    "    clfString = str(clf)\n",
    "    for k1, v1 in clf_Dict.items(): \n",
    "        if k1 in clfString:\n",
    "            hyper_param_dict[clf] = [dict(zip(v1, s)) for s in product(*v1.values())]"
   ]
  },
  {
   "cell_type": "code",
   "execution_count": 45,
   "metadata": {},
   "outputs": [
    {
     "name": "stdout",
     "output_type": "stream",
     "text": [
      "{<class 'sklearn.ensemble._forest.RandomForestClassifier'>: [{'n_estimators': 100, 'max_depth': 5, 'min_samples_leaf': 3}, {'n_estimators': 100, 'max_depth': 5, 'min_samples_leaf': 4}, {'n_estimators': 100, 'max_depth': 5, 'min_samples_leaf': 5}, {'n_estimators': 100, 'max_depth': 10, 'min_samples_leaf': 3}, {'n_estimators': 100, 'max_depth': 10, 'min_samples_leaf': 4}, {'n_estimators': 100, 'max_depth': 10, 'min_samples_leaf': 5}, {'n_estimators': 100, 'max_depth': 15, 'min_samples_leaf': 3}, {'n_estimators': 100, 'max_depth': 15, 'min_samples_leaf': 4}, {'n_estimators': 100, 'max_depth': 15, 'min_samples_leaf': 5}, {'n_estimators': 100, 'max_depth': 20, 'min_samples_leaf': 3}, {'n_estimators': 100, 'max_depth': 20, 'min_samples_leaf': 4}, {'n_estimators': 100, 'max_depth': 20, 'min_samples_leaf': 5}, {'n_estimators': 150, 'max_depth': 5, 'min_samples_leaf': 3}, {'n_estimators': 150, 'max_depth': 5, 'min_samples_leaf': 4}, {'n_estimators': 150, 'max_depth': 5, 'min_samples_leaf': 5}, {'n_estimators': 150, 'max_depth': 10, 'min_samples_leaf': 3}, {'n_estimators': 150, 'max_depth': 10, 'min_samples_leaf': 4}, {'n_estimators': 150, 'max_depth': 10, 'min_samples_leaf': 5}, {'n_estimators': 150, 'max_depth': 15, 'min_samples_leaf': 3}, {'n_estimators': 150, 'max_depth': 15, 'min_samples_leaf': 4}, {'n_estimators': 150, 'max_depth': 15, 'min_samples_leaf': 5}, {'n_estimators': 150, 'max_depth': 20, 'min_samples_leaf': 3}, {'n_estimators': 150, 'max_depth': 20, 'min_samples_leaf': 4}, {'n_estimators': 150, 'max_depth': 20, 'min_samples_leaf': 5}, {'n_estimators': 200, 'max_depth': 5, 'min_samples_leaf': 3}, {'n_estimators': 200, 'max_depth': 5, 'min_samples_leaf': 4}, {'n_estimators': 200, 'max_depth': 5, 'min_samples_leaf': 5}, {'n_estimators': 200, 'max_depth': 10, 'min_samples_leaf': 3}, {'n_estimators': 200, 'max_depth': 10, 'min_samples_leaf': 4}, {'n_estimators': 200, 'max_depth': 10, 'min_samples_leaf': 5}, {'n_estimators': 200, 'max_depth': 15, 'min_samples_leaf': 3}, {'n_estimators': 200, 'max_depth': 15, 'min_samples_leaf': 4}, {'n_estimators': 200, 'max_depth': 15, 'min_samples_leaf': 5}, {'n_estimators': 200, 'max_depth': 20, 'min_samples_leaf': 3}, {'n_estimators': 200, 'max_depth': 20, 'min_samples_leaf': 4}, {'n_estimators': 200, 'max_depth': 20, 'min_samples_leaf': 5}], <class 'sklearn.linear_model._logistic.LogisticRegression'>: [{'solver': 'newton-cg', 'C': 0.001, 'max_iter': 500}, {'solver': 'newton-cg', 'C': 0.001, 'max_iter': 1500}, {'solver': 'newton-cg', 'C': 0.001, 'max_iter': 2000}, {'solver': 'newton-cg', 'C': 0.01, 'max_iter': 500}, {'solver': 'newton-cg', 'C': 0.01, 'max_iter': 1500}, {'solver': 'newton-cg', 'C': 0.01, 'max_iter': 2000}, {'solver': 'newton-cg', 'C': 0.1, 'max_iter': 500}, {'solver': 'newton-cg', 'C': 0.1, 'max_iter': 1500}, {'solver': 'newton-cg', 'C': 0.1, 'max_iter': 2000}, {'solver': 'newton-cg', 'C': 1, 'max_iter': 500}, {'solver': 'newton-cg', 'C': 1, 'max_iter': 1500}, {'solver': 'newton-cg', 'C': 1, 'max_iter': 2000}, {'solver': 'newton-cg', 'C': 10, 'max_iter': 500}, {'solver': 'newton-cg', 'C': 10, 'max_iter': 1500}, {'solver': 'newton-cg', 'C': 10, 'max_iter': 2000}, {'solver': 'newton-cg', 'C': 100, 'max_iter': 500}, {'solver': 'newton-cg', 'C': 100, 'max_iter': 1500}, {'solver': 'newton-cg', 'C': 100, 'max_iter': 2000}, {'solver': 'newton-cg', 'C': 1000, 'max_iter': 500}, {'solver': 'newton-cg', 'C': 1000, 'max_iter': 1500}, {'solver': 'newton-cg', 'C': 1000, 'max_iter': 2000}, {'solver': 'lbfgs', 'C': 0.001, 'max_iter': 500}, {'solver': 'lbfgs', 'C': 0.001, 'max_iter': 1500}, {'solver': 'lbfgs', 'C': 0.001, 'max_iter': 2000}, {'solver': 'lbfgs', 'C': 0.01, 'max_iter': 500}, {'solver': 'lbfgs', 'C': 0.01, 'max_iter': 1500}, {'solver': 'lbfgs', 'C': 0.01, 'max_iter': 2000}, {'solver': 'lbfgs', 'C': 0.1, 'max_iter': 500}, {'solver': 'lbfgs', 'C': 0.1, 'max_iter': 1500}, {'solver': 'lbfgs', 'C': 0.1, 'max_iter': 2000}, {'solver': 'lbfgs', 'C': 1, 'max_iter': 500}, {'solver': 'lbfgs', 'C': 1, 'max_iter': 1500}, {'solver': 'lbfgs', 'C': 1, 'max_iter': 2000}, {'solver': 'lbfgs', 'C': 10, 'max_iter': 500}, {'solver': 'lbfgs', 'C': 10, 'max_iter': 1500}, {'solver': 'lbfgs', 'C': 10, 'max_iter': 2000}, {'solver': 'lbfgs', 'C': 100, 'max_iter': 500}, {'solver': 'lbfgs', 'C': 100, 'max_iter': 1500}, {'solver': 'lbfgs', 'C': 100, 'max_iter': 2000}, {'solver': 'lbfgs', 'C': 1000, 'max_iter': 500}, {'solver': 'lbfgs', 'C': 1000, 'max_iter': 1500}, {'solver': 'lbfgs', 'C': 1000, 'max_iter': 2000}, {'solver': 'liblinear', 'C': 0.001, 'max_iter': 500}, {'solver': 'liblinear', 'C': 0.001, 'max_iter': 1500}, {'solver': 'liblinear', 'C': 0.001, 'max_iter': 2000}, {'solver': 'liblinear', 'C': 0.01, 'max_iter': 500}, {'solver': 'liblinear', 'C': 0.01, 'max_iter': 1500}, {'solver': 'liblinear', 'C': 0.01, 'max_iter': 2000}, {'solver': 'liblinear', 'C': 0.1, 'max_iter': 500}, {'solver': 'liblinear', 'C': 0.1, 'max_iter': 1500}, {'solver': 'liblinear', 'C': 0.1, 'max_iter': 2000}, {'solver': 'liblinear', 'C': 1, 'max_iter': 500}, {'solver': 'liblinear', 'C': 1, 'max_iter': 1500}, {'solver': 'liblinear', 'C': 1, 'max_iter': 2000}, {'solver': 'liblinear', 'C': 10, 'max_iter': 500}, {'solver': 'liblinear', 'C': 10, 'max_iter': 1500}, {'solver': 'liblinear', 'C': 10, 'max_iter': 2000}, {'solver': 'liblinear', 'C': 100, 'max_iter': 500}, {'solver': 'liblinear', 'C': 100, 'max_iter': 1500}, {'solver': 'liblinear', 'C': 100, 'max_iter': 2000}, {'solver': 'liblinear', 'C': 1000, 'max_iter': 500}, {'solver': 'liblinear', 'C': 1000, 'max_iter': 1500}, {'solver': 'liblinear', 'C': 1000, 'max_iter': 2000}], <class 'sklearn.neighbors._classification.KNeighborsClassifier'>: [{'n_neighbors': 5, 'metric': 'minkowski', 'weights': 'uniform'}, {'n_neighbors': 5, 'metric': 'minkowski', 'weights': 'distance'}, {'n_neighbors': 5, 'metric': 'euclidean', 'weights': 'uniform'}, {'n_neighbors': 5, 'metric': 'euclidean', 'weights': 'distance'}, {'n_neighbors': 5, 'metric': 'manhattan', 'weights': 'uniform'}, {'n_neighbors': 5, 'metric': 'manhattan', 'weights': 'distance'}, {'n_neighbors': 13, 'metric': 'minkowski', 'weights': 'uniform'}, {'n_neighbors': 13, 'metric': 'minkowski', 'weights': 'distance'}, {'n_neighbors': 13, 'metric': 'euclidean', 'weights': 'uniform'}, {'n_neighbors': 13, 'metric': 'euclidean', 'weights': 'distance'}, {'n_neighbors': 13, 'metric': 'manhattan', 'weights': 'uniform'}, {'n_neighbors': 13, 'metric': 'manhattan', 'weights': 'distance'}, {'n_neighbors': 15, 'metric': 'minkowski', 'weights': 'uniform'}, {'n_neighbors': 15, 'metric': 'minkowski', 'weights': 'distance'}, {'n_neighbors': 15, 'metric': 'euclidean', 'weights': 'uniform'}, {'n_neighbors': 15, 'metric': 'euclidean', 'weights': 'distance'}, {'n_neighbors': 15, 'metric': 'manhattan', 'weights': 'uniform'}, {'n_neighbors': 15, 'metric': 'manhattan', 'weights': 'distance'}, {'n_neighbors': 17, 'metric': 'minkowski', 'weights': 'uniform'}, {'n_neighbors': 17, 'metric': 'minkowski', 'weights': 'distance'}, {'n_neighbors': 17, 'metric': 'euclidean', 'weights': 'uniform'}, {'n_neighbors': 17, 'metric': 'euclidean', 'weights': 'distance'}, {'n_neighbors': 17, 'metric': 'manhattan', 'weights': 'uniform'}, {'n_neighbors': 17, 'metric': 'manhattan', 'weights': 'distance'}]}\n"
     ]
    }
   ],
   "source": [
    "print(hyper_param_dict)"
   ]
  },
  {
   "cell_type": "code",
   "execution_count": 46,
   "metadata": {},
   "outputs": [],
   "source": [
    "# Iterate each model and possible hyper-parameter combinations, fit the model and create a metric dictionary  for n-folds\n",
    "clfs_metrics_Dict = {}\n",
    "clf_results={}\n",
    "for clf in clf_List:\n",
    "    for params in hyper_param_dict[clf]:\n",
    "        clf_hyper = params\n",
    "        clf_results = run(clf, data, clf_hyper)\n",
    "        \n",
    "        acc_list = []\n"
   ]
  },
  {
   "cell_type": "code",
   "execution_count": 56,
   "metadata": {},
   "outputs": [
    {
     "name": "stdout",
     "output_type": "stream",
     "text": [
      "key: 0\n",
      "{0: {'clf': KNeighborsClassifier(algorithm='auto', leaf_size=30, metric='manhattan',\n",
      "                     metric_params=None, n_jobs=None, n_neighbors=17, p=2,\n",
      "                     weights='distance'), 'accuracy': 0.7543859649122807, 'precision': 0.44}, 1: {'clf': KNeighborsClassifier(algorithm='auto', leaf_size=30, metric='manhattan',\n",
      "                     metric_params=None, n_jobs=None, n_neighbors=17, p=2,\n",
      "                     weights='distance'), 'accuracy': 0.9298245614035088, 'precision': 0.918918918918919}, 2: {'clf': KNeighborsClassifier(algorithm='auto', leaf_size=30, metric='manhattan',\n",
      "                     metric_params=None, n_jobs=None, n_neighbors=17, p=2,\n",
      "                     weights='distance'), 'accuracy': 0.9298245614035088, 'precision': 0.9444444444444444}, 3: {'clf': KNeighborsClassifier(algorithm='auto', leaf_size=30, metric='manhattan',\n",
      "                     metric_params=None, n_jobs=None, n_neighbors=17, p=2,\n",
      "                     weights='distance'), 'accuracy': 0.9122807017543859, 'precision': 0.875}, 4: {'clf': KNeighborsClassifier(algorithm='auto', leaf_size=30, metric='manhattan',\n",
      "                     metric_params=None, n_jobs=None, n_neighbors=17, p=2,\n",
      "                     weights='distance'), 'accuracy': 0.9824561403508771, 'precision': 0.9666666666666667}, 5: {'clf': KNeighborsClassifier(algorithm='auto', leaf_size=30, metric='manhattan',\n",
      "                     metric_params=None, n_jobs=None, n_neighbors=17, p=2,\n",
      "                     weights='distance'), 'accuracy': 0.9824561403508771, 'precision': 0.9782608695652174}, 6: {'clf': KNeighborsClassifier(algorithm='auto', leaf_size=30, metric='manhattan',\n",
      "                     metric_params=None, n_jobs=None, n_neighbors=17, p=2,\n",
      "                     weights='distance'), 'accuracy': 0.9473684210526315, 'precision': 0.9523809523809523}, 7: {'clf': KNeighborsClassifier(algorithm='auto', leaf_size=30, metric='manhattan',\n",
      "                     metric_params=None, n_jobs=None, n_neighbors=17, p=2,\n",
      "                     weights='distance'), 'accuracy': 0.9649122807017544, 'precision': 0.9772727272727273}, 8: {'clf': KNeighborsClassifier(algorithm='auto', leaf_size=30, metric='manhattan',\n",
      "                     metric_params=None, n_jobs=None, n_neighbors=17, p=2,\n",
      "                     weights='distance'), 'accuracy': 0.9298245614035088, 'precision': 1.0}, 9: {'clf': KNeighborsClassifier(algorithm='auto', leaf_size=30, metric='manhattan',\n",
      "                     metric_params=None, n_jobs=None, n_neighbors=17, p=2,\n",
      "                     weights='distance'), 'accuracy': 0.9821428571428571, 'precision': 0.9772727272727273}}\n",
      "key: 1\n",
      "{0: {'clf': KNeighborsClassifier(algorithm='auto', leaf_size=30, metric='manhattan',\n",
      "                     metric_params=None, n_jobs=None, n_neighbors=17, p=2,\n",
      "                     weights='distance'), 'accuracy': 0.7543859649122807, 'precision': 0.44}, 1: {'clf': KNeighborsClassifier(algorithm='auto', leaf_size=30, metric='manhattan',\n",
      "                     metric_params=None, n_jobs=None, n_neighbors=17, p=2,\n",
      "                     weights='distance'), 'accuracy': 0.9298245614035088, 'precision': 0.918918918918919}, 2: {'clf': KNeighborsClassifier(algorithm='auto', leaf_size=30, metric='manhattan',\n",
      "                     metric_params=None, n_jobs=None, n_neighbors=17, p=2,\n",
      "                     weights='distance'), 'accuracy': 0.9298245614035088, 'precision': 0.9444444444444444}, 3: {'clf': KNeighborsClassifier(algorithm='auto', leaf_size=30, metric='manhattan',\n",
      "                     metric_params=None, n_jobs=None, n_neighbors=17, p=2,\n",
      "                     weights='distance'), 'accuracy': 0.9122807017543859, 'precision': 0.875}, 4: {'clf': KNeighborsClassifier(algorithm='auto', leaf_size=30, metric='manhattan',\n",
      "                     metric_params=None, n_jobs=None, n_neighbors=17, p=2,\n",
      "                     weights='distance'), 'accuracy': 0.9824561403508771, 'precision': 0.9666666666666667}, 5: {'clf': KNeighborsClassifier(algorithm='auto', leaf_size=30, metric='manhattan',\n",
      "                     metric_params=None, n_jobs=None, n_neighbors=17, p=2,\n",
      "                     weights='distance'), 'accuracy': 0.9824561403508771, 'precision': 0.9782608695652174}, 6: {'clf': KNeighborsClassifier(algorithm='auto', leaf_size=30, metric='manhattan',\n",
      "                     metric_params=None, n_jobs=None, n_neighbors=17, p=2,\n",
      "                     weights='distance'), 'accuracy': 0.9473684210526315, 'precision': 0.9523809523809523}, 7: {'clf': KNeighborsClassifier(algorithm='auto', leaf_size=30, metric='manhattan',\n",
      "                     metric_params=None, n_jobs=None, n_neighbors=17, p=2,\n",
      "                     weights='distance'), 'accuracy': 0.9649122807017544, 'precision': 0.9772727272727273}, 8: {'clf': KNeighborsClassifier(algorithm='auto', leaf_size=30, metric='manhattan',\n",
      "                     metric_params=None, n_jobs=None, n_neighbors=17, p=2,\n",
      "                     weights='distance'), 'accuracy': 0.9298245614035088, 'precision': 1.0}, 9: {'clf': KNeighborsClassifier(algorithm='auto', leaf_size=30, metric='manhattan',\n",
      "                     metric_params=None, n_jobs=None, n_neighbors=17, p=2,\n",
      "                     weights='distance'), 'accuracy': 0.9821428571428571, 'precision': 0.9772727272727273}}\n",
      "key: 2\n",
      "{0: {'clf': KNeighborsClassifier(algorithm='auto', leaf_size=30, metric='manhattan',\n",
      "                     metric_params=None, n_jobs=None, n_neighbors=17, p=2,\n",
      "                     weights='distance'), 'accuracy': 0.7543859649122807, 'precision': 0.44}, 1: {'clf': KNeighborsClassifier(algorithm='auto', leaf_size=30, metric='manhattan',\n",
      "                     metric_params=None, n_jobs=None, n_neighbors=17, p=2,\n",
      "                     weights='distance'), 'accuracy': 0.9298245614035088, 'precision': 0.918918918918919}, 2: {'clf': KNeighborsClassifier(algorithm='auto', leaf_size=30, metric='manhattan',\n",
      "                     metric_params=None, n_jobs=None, n_neighbors=17, p=2,\n",
      "                     weights='distance'), 'accuracy': 0.9298245614035088, 'precision': 0.9444444444444444}, 3: {'clf': KNeighborsClassifier(algorithm='auto', leaf_size=30, metric='manhattan',\n",
      "                     metric_params=None, n_jobs=None, n_neighbors=17, p=2,\n",
      "                     weights='distance'), 'accuracy': 0.9122807017543859, 'precision': 0.875}, 4: {'clf': KNeighborsClassifier(algorithm='auto', leaf_size=30, metric='manhattan',\n",
      "                     metric_params=None, n_jobs=None, n_neighbors=17, p=2,\n",
      "                     weights='distance'), 'accuracy': 0.9824561403508771, 'precision': 0.9666666666666667}, 5: {'clf': KNeighborsClassifier(algorithm='auto', leaf_size=30, metric='manhattan',\n",
      "                     metric_params=None, n_jobs=None, n_neighbors=17, p=2,\n",
      "                     weights='distance'), 'accuracy': 0.9824561403508771, 'precision': 0.9782608695652174}, 6: {'clf': KNeighborsClassifier(algorithm='auto', leaf_size=30, metric='manhattan',\n",
      "                     metric_params=None, n_jobs=None, n_neighbors=17, p=2,\n",
      "                     weights='distance'), 'accuracy': 0.9473684210526315, 'precision': 0.9523809523809523}, 7: {'clf': KNeighborsClassifier(algorithm='auto', leaf_size=30, metric='manhattan',\n",
      "                     metric_params=None, n_jobs=None, n_neighbors=17, p=2,\n",
      "                     weights='distance'), 'accuracy': 0.9649122807017544, 'precision': 0.9772727272727273}, 8: {'clf': KNeighborsClassifier(algorithm='auto', leaf_size=30, metric='manhattan',\n",
      "                     metric_params=None, n_jobs=None, n_neighbors=17, p=2,\n",
      "                     weights='distance'), 'accuracy': 0.9298245614035088, 'precision': 1.0}, 9: {'clf': KNeighborsClassifier(algorithm='auto', leaf_size=30, metric='manhattan',\n",
      "                     metric_params=None, n_jobs=None, n_neighbors=17, p=2,\n",
      "                     weights='distance'), 'accuracy': 0.9821428571428571, 'precision': 0.9772727272727273}}\n",
      "key: 3\n",
      "{0: {'clf': KNeighborsClassifier(algorithm='auto', leaf_size=30, metric='manhattan',\n",
      "                     metric_params=None, n_jobs=None, n_neighbors=17, p=2,\n",
      "                     weights='distance'), 'accuracy': 0.7543859649122807, 'precision': 0.44}, 1: {'clf': KNeighborsClassifier(algorithm='auto', leaf_size=30, metric='manhattan',\n",
      "                     metric_params=None, n_jobs=None, n_neighbors=17, p=2,\n",
      "                     weights='distance'), 'accuracy': 0.9298245614035088, 'precision': 0.918918918918919}, 2: {'clf': KNeighborsClassifier(algorithm='auto', leaf_size=30, metric='manhattan',\n",
      "                     metric_params=None, n_jobs=None, n_neighbors=17, p=2,\n",
      "                     weights='distance'), 'accuracy': 0.9298245614035088, 'precision': 0.9444444444444444}, 3: {'clf': KNeighborsClassifier(algorithm='auto', leaf_size=30, metric='manhattan',\n",
      "                     metric_params=None, n_jobs=None, n_neighbors=17, p=2,\n",
      "                     weights='distance'), 'accuracy': 0.9122807017543859, 'precision': 0.875}, 4: {'clf': KNeighborsClassifier(algorithm='auto', leaf_size=30, metric='manhattan',\n",
      "                     metric_params=None, n_jobs=None, n_neighbors=17, p=2,\n",
      "                     weights='distance'), 'accuracy': 0.9824561403508771, 'precision': 0.9666666666666667}, 5: {'clf': KNeighborsClassifier(algorithm='auto', leaf_size=30, metric='manhattan',\n",
      "                     metric_params=None, n_jobs=None, n_neighbors=17, p=2,\n",
      "                     weights='distance'), 'accuracy': 0.9824561403508771, 'precision': 0.9782608695652174}, 6: {'clf': KNeighborsClassifier(algorithm='auto', leaf_size=30, metric='manhattan',\n",
      "                     metric_params=None, n_jobs=None, n_neighbors=17, p=2,\n",
      "                     weights='distance'), 'accuracy': 0.9473684210526315, 'precision': 0.9523809523809523}, 7: {'clf': KNeighborsClassifier(algorithm='auto', leaf_size=30, metric='manhattan',\n",
      "                     metric_params=None, n_jobs=None, n_neighbors=17, p=2,\n",
      "                     weights='distance'), 'accuracy': 0.9649122807017544, 'precision': 0.9772727272727273}, 8: {'clf': KNeighborsClassifier(algorithm='auto', leaf_size=30, metric='manhattan',\n",
      "                     metric_params=None, n_jobs=None, n_neighbors=17, p=2,\n",
      "                     weights='distance'), 'accuracy': 0.9298245614035088, 'precision': 1.0}, 9: {'clf': KNeighborsClassifier(algorithm='auto', leaf_size=30, metric='manhattan',\n",
      "                     metric_params=None, n_jobs=None, n_neighbors=17, p=2,\n",
      "                     weights='distance'), 'accuracy': 0.9821428571428571, 'precision': 0.9772727272727273}}\n",
      "key: 4\n",
      "{0: {'clf': KNeighborsClassifier(algorithm='auto', leaf_size=30, metric='manhattan',\n",
      "                     metric_params=None, n_jobs=None, n_neighbors=17, p=2,\n",
      "                     weights='distance'), 'accuracy': 0.7543859649122807, 'precision': 0.44}, 1: {'clf': KNeighborsClassifier(algorithm='auto', leaf_size=30, metric='manhattan',\n",
      "                     metric_params=None, n_jobs=None, n_neighbors=17, p=2,\n",
      "                     weights='distance'), 'accuracy': 0.9298245614035088, 'precision': 0.918918918918919}, 2: {'clf': KNeighborsClassifier(algorithm='auto', leaf_size=30, metric='manhattan',\n",
      "                     metric_params=None, n_jobs=None, n_neighbors=17, p=2,\n",
      "                     weights='distance'), 'accuracy': 0.9298245614035088, 'precision': 0.9444444444444444}, 3: {'clf': KNeighborsClassifier(algorithm='auto', leaf_size=30, metric='manhattan',\n",
      "                     metric_params=None, n_jobs=None, n_neighbors=17, p=2,\n",
      "                     weights='distance'), 'accuracy': 0.9122807017543859, 'precision': 0.875}, 4: {'clf': KNeighborsClassifier(algorithm='auto', leaf_size=30, metric='manhattan',\n",
      "                     metric_params=None, n_jobs=None, n_neighbors=17, p=2,\n",
      "                     weights='distance'), 'accuracy': 0.9824561403508771, 'precision': 0.9666666666666667}, 5: {'clf': KNeighborsClassifier(algorithm='auto', leaf_size=30, metric='manhattan',\n",
      "                     metric_params=None, n_jobs=None, n_neighbors=17, p=2,\n",
      "                     weights='distance'), 'accuracy': 0.9824561403508771, 'precision': 0.9782608695652174}, 6: {'clf': KNeighborsClassifier(algorithm='auto', leaf_size=30, metric='manhattan',\n",
      "                     metric_params=None, n_jobs=None, n_neighbors=17, p=2,\n",
      "                     weights='distance'), 'accuracy': 0.9473684210526315, 'precision': 0.9523809523809523}, 7: {'clf': KNeighborsClassifier(algorithm='auto', leaf_size=30, metric='manhattan',\n",
      "                     metric_params=None, n_jobs=None, n_neighbors=17, p=2,\n",
      "                     weights='distance'), 'accuracy': 0.9649122807017544, 'precision': 0.9772727272727273}, 8: {'clf': KNeighborsClassifier(algorithm='auto', leaf_size=30, metric='manhattan',\n",
      "                     metric_params=None, n_jobs=None, n_neighbors=17, p=2,\n",
      "                     weights='distance'), 'accuracy': 0.9298245614035088, 'precision': 1.0}, 9: {'clf': KNeighborsClassifier(algorithm='auto', leaf_size=30, metric='manhattan',\n",
      "                     metric_params=None, n_jobs=None, n_neighbors=17, p=2,\n",
      "                     weights='distance'), 'accuracy': 0.9821428571428571, 'precision': 0.9772727272727273}}\n",
      "key: 5\n",
      "{0: {'clf': KNeighborsClassifier(algorithm='auto', leaf_size=30, metric='manhattan',\n",
      "                     metric_params=None, n_jobs=None, n_neighbors=17, p=2,\n",
      "                     weights='distance'), 'accuracy': 0.7543859649122807, 'precision': 0.44}, 1: {'clf': KNeighborsClassifier(algorithm='auto', leaf_size=30, metric='manhattan',\n",
      "                     metric_params=None, n_jobs=None, n_neighbors=17, p=2,\n",
      "                     weights='distance'), 'accuracy': 0.9298245614035088, 'precision': 0.918918918918919}, 2: {'clf': KNeighborsClassifier(algorithm='auto', leaf_size=30, metric='manhattan',\n",
      "                     metric_params=None, n_jobs=None, n_neighbors=17, p=2,\n",
      "                     weights='distance'), 'accuracy': 0.9298245614035088, 'precision': 0.9444444444444444}, 3: {'clf': KNeighborsClassifier(algorithm='auto', leaf_size=30, metric='manhattan',\n",
      "                     metric_params=None, n_jobs=None, n_neighbors=17, p=2,\n",
      "                     weights='distance'), 'accuracy': 0.9122807017543859, 'precision': 0.875}, 4: {'clf': KNeighborsClassifier(algorithm='auto', leaf_size=30, metric='manhattan',\n",
      "                     metric_params=None, n_jobs=None, n_neighbors=17, p=2,\n",
      "                     weights='distance'), 'accuracy': 0.9824561403508771, 'precision': 0.9666666666666667}, 5: {'clf': KNeighborsClassifier(algorithm='auto', leaf_size=30, metric='manhattan',\n",
      "                     metric_params=None, n_jobs=None, n_neighbors=17, p=2,\n",
      "                     weights='distance'), 'accuracy': 0.9824561403508771, 'precision': 0.9782608695652174}, 6: {'clf': KNeighborsClassifier(algorithm='auto', leaf_size=30, metric='manhattan',\n",
      "                     metric_params=None, n_jobs=None, n_neighbors=17, p=2,\n",
      "                     weights='distance'), 'accuracy': 0.9473684210526315, 'precision': 0.9523809523809523}, 7: {'clf': KNeighborsClassifier(algorithm='auto', leaf_size=30, metric='manhattan',\n",
      "                     metric_params=None, n_jobs=None, n_neighbors=17, p=2,\n",
      "                     weights='distance'), 'accuracy': 0.9649122807017544, 'precision': 0.9772727272727273}, 8: {'clf': KNeighborsClassifier(algorithm='auto', leaf_size=30, metric='manhattan',\n",
      "                     metric_params=None, n_jobs=None, n_neighbors=17, p=2,\n",
      "                     weights='distance'), 'accuracy': 0.9298245614035088, 'precision': 1.0}, 9: {'clf': KNeighborsClassifier(algorithm='auto', leaf_size=30, metric='manhattan',\n",
      "                     metric_params=None, n_jobs=None, n_neighbors=17, p=2,\n",
      "                     weights='distance'), 'accuracy': 0.9821428571428571, 'precision': 0.9772727272727273}}\n",
      "key: 6\n",
      "{0: {'clf': KNeighborsClassifier(algorithm='auto', leaf_size=30, metric='manhattan',\n",
      "                     metric_params=None, n_jobs=None, n_neighbors=17, p=2,\n",
      "                     weights='distance'), 'accuracy': 0.7543859649122807, 'precision': 0.44}, 1: {'clf': KNeighborsClassifier(algorithm='auto', leaf_size=30, metric='manhattan',\n",
      "                     metric_params=None, n_jobs=None, n_neighbors=17, p=2,\n",
      "                     weights='distance'), 'accuracy': 0.9298245614035088, 'precision': 0.918918918918919}, 2: {'clf': KNeighborsClassifier(algorithm='auto', leaf_size=30, metric='manhattan',\n",
      "                     metric_params=None, n_jobs=None, n_neighbors=17, p=2,\n",
      "                     weights='distance'), 'accuracy': 0.9298245614035088, 'precision': 0.9444444444444444}, 3: {'clf': KNeighborsClassifier(algorithm='auto', leaf_size=30, metric='manhattan',\n",
      "                     metric_params=None, n_jobs=None, n_neighbors=17, p=2,\n",
      "                     weights='distance'), 'accuracy': 0.9122807017543859, 'precision': 0.875}, 4: {'clf': KNeighborsClassifier(algorithm='auto', leaf_size=30, metric='manhattan',\n",
      "                     metric_params=None, n_jobs=None, n_neighbors=17, p=2,\n",
      "                     weights='distance'), 'accuracy': 0.9824561403508771, 'precision': 0.9666666666666667}, 5: {'clf': KNeighborsClassifier(algorithm='auto', leaf_size=30, metric='manhattan',\n",
      "                     metric_params=None, n_jobs=None, n_neighbors=17, p=2,\n",
      "                     weights='distance'), 'accuracy': 0.9824561403508771, 'precision': 0.9782608695652174}, 6: {'clf': KNeighborsClassifier(algorithm='auto', leaf_size=30, metric='manhattan',\n",
      "                     metric_params=None, n_jobs=None, n_neighbors=17, p=2,\n",
      "                     weights='distance'), 'accuracy': 0.9473684210526315, 'precision': 0.9523809523809523}, 7: {'clf': KNeighborsClassifier(algorithm='auto', leaf_size=30, metric='manhattan',\n",
      "                     metric_params=None, n_jobs=None, n_neighbors=17, p=2,\n",
      "                     weights='distance'), 'accuracy': 0.9649122807017544, 'precision': 0.9772727272727273}, 8: {'clf': KNeighborsClassifier(algorithm='auto', leaf_size=30, metric='manhattan',\n",
      "                     metric_params=None, n_jobs=None, n_neighbors=17, p=2,\n",
      "                     weights='distance'), 'accuracy': 0.9298245614035088, 'precision': 1.0}, 9: {'clf': KNeighborsClassifier(algorithm='auto', leaf_size=30, metric='manhattan',\n",
      "                     metric_params=None, n_jobs=None, n_neighbors=17, p=2,\n",
      "                     weights='distance'), 'accuracy': 0.9821428571428571, 'precision': 0.9772727272727273}}\n",
      "key: 7\n",
      "{0: {'clf': KNeighborsClassifier(algorithm='auto', leaf_size=30, metric='manhattan',\n",
      "                     metric_params=None, n_jobs=None, n_neighbors=17, p=2,\n",
      "                     weights='distance'), 'accuracy': 0.7543859649122807, 'precision': 0.44}, 1: {'clf': KNeighborsClassifier(algorithm='auto', leaf_size=30, metric='manhattan',\n",
      "                     metric_params=None, n_jobs=None, n_neighbors=17, p=2,\n",
      "                     weights='distance'), 'accuracy': 0.9298245614035088, 'precision': 0.918918918918919}, 2: {'clf': KNeighborsClassifier(algorithm='auto', leaf_size=30, metric='manhattan',\n",
      "                     metric_params=None, n_jobs=None, n_neighbors=17, p=2,\n",
      "                     weights='distance'), 'accuracy': 0.9298245614035088, 'precision': 0.9444444444444444}, 3: {'clf': KNeighborsClassifier(algorithm='auto', leaf_size=30, metric='manhattan',\n",
      "                     metric_params=None, n_jobs=None, n_neighbors=17, p=2,\n",
      "                     weights='distance'), 'accuracy': 0.9122807017543859, 'precision': 0.875}, 4: {'clf': KNeighborsClassifier(algorithm='auto', leaf_size=30, metric='manhattan',\n",
      "                     metric_params=None, n_jobs=None, n_neighbors=17, p=2,\n",
      "                     weights='distance'), 'accuracy': 0.9824561403508771, 'precision': 0.9666666666666667}, 5: {'clf': KNeighborsClassifier(algorithm='auto', leaf_size=30, metric='manhattan',\n",
      "                     metric_params=None, n_jobs=None, n_neighbors=17, p=2,\n",
      "                     weights='distance'), 'accuracy': 0.9824561403508771, 'precision': 0.9782608695652174}, 6: {'clf': KNeighborsClassifier(algorithm='auto', leaf_size=30, metric='manhattan',\n",
      "                     metric_params=None, n_jobs=None, n_neighbors=17, p=2,\n",
      "                     weights='distance'), 'accuracy': 0.9473684210526315, 'precision': 0.9523809523809523}, 7: {'clf': KNeighborsClassifier(algorithm='auto', leaf_size=30, metric='manhattan',\n",
      "                     metric_params=None, n_jobs=None, n_neighbors=17, p=2,\n",
      "                     weights='distance'), 'accuracy': 0.9649122807017544, 'precision': 0.9772727272727273}, 8: {'clf': KNeighborsClassifier(algorithm='auto', leaf_size=30, metric='manhattan',\n",
      "                     metric_params=None, n_jobs=None, n_neighbors=17, p=2,\n",
      "                     weights='distance'), 'accuracy': 0.9298245614035088, 'precision': 1.0}, 9: {'clf': KNeighborsClassifier(algorithm='auto', leaf_size=30, metric='manhattan',\n",
      "                     metric_params=None, n_jobs=None, n_neighbors=17, p=2,\n",
      "                     weights='distance'), 'accuracy': 0.9821428571428571, 'precision': 0.9772727272727273}}\n",
      "key: 8\n",
      "{0: {'clf': KNeighborsClassifier(algorithm='auto', leaf_size=30, metric='manhattan',\n",
      "                     metric_params=None, n_jobs=None, n_neighbors=17, p=2,\n",
      "                     weights='distance'), 'accuracy': 0.7543859649122807, 'precision': 0.44}, 1: {'clf': KNeighborsClassifier(algorithm='auto', leaf_size=30, metric='manhattan',\n",
      "                     metric_params=None, n_jobs=None, n_neighbors=17, p=2,\n",
      "                     weights='distance'), 'accuracy': 0.9298245614035088, 'precision': 0.918918918918919}, 2: {'clf': KNeighborsClassifier(algorithm='auto', leaf_size=30, metric='manhattan',\n",
      "                     metric_params=None, n_jobs=None, n_neighbors=17, p=2,\n",
      "                     weights='distance'), 'accuracy': 0.9298245614035088, 'precision': 0.9444444444444444}, 3: {'clf': KNeighborsClassifier(algorithm='auto', leaf_size=30, metric='manhattan',\n",
      "                     metric_params=None, n_jobs=None, n_neighbors=17, p=2,\n",
      "                     weights='distance'), 'accuracy': 0.9122807017543859, 'precision': 0.875}, 4: {'clf': KNeighborsClassifier(algorithm='auto', leaf_size=30, metric='manhattan',\n",
      "                     metric_params=None, n_jobs=None, n_neighbors=17, p=2,\n",
      "                     weights='distance'), 'accuracy': 0.9824561403508771, 'precision': 0.9666666666666667}, 5: {'clf': KNeighborsClassifier(algorithm='auto', leaf_size=30, metric='manhattan',\n",
      "                     metric_params=None, n_jobs=None, n_neighbors=17, p=2,\n",
      "                     weights='distance'), 'accuracy': 0.9824561403508771, 'precision': 0.9782608695652174}, 6: {'clf': KNeighborsClassifier(algorithm='auto', leaf_size=30, metric='manhattan',\n",
      "                     metric_params=None, n_jobs=None, n_neighbors=17, p=2,\n",
      "                     weights='distance'), 'accuracy': 0.9473684210526315, 'precision': 0.9523809523809523}, 7: {'clf': KNeighborsClassifier(algorithm='auto', leaf_size=30, metric='manhattan',\n",
      "                     metric_params=None, n_jobs=None, n_neighbors=17, p=2,\n",
      "                     weights='distance'), 'accuracy': 0.9649122807017544, 'precision': 0.9772727272727273}, 8: {'clf': KNeighborsClassifier(algorithm='auto', leaf_size=30, metric='manhattan',\n",
      "                     metric_params=None, n_jobs=None, n_neighbors=17, p=2,\n",
      "                     weights='distance'), 'accuracy': 0.9298245614035088, 'precision': 1.0}, 9: {'clf': KNeighborsClassifier(algorithm='auto', leaf_size=30, metric='manhattan',\n",
      "                     metric_params=None, n_jobs=None, n_neighbors=17, p=2,\n",
      "                     weights='distance'), 'accuracy': 0.9821428571428571, 'precision': 0.9772727272727273}}\n",
      "key: 9\n",
      "{0: {'clf': KNeighborsClassifier(algorithm='auto', leaf_size=30, metric='manhattan',\n",
      "                     metric_params=None, n_jobs=None, n_neighbors=17, p=2,\n",
      "                     weights='distance'), 'accuracy': 0.7543859649122807, 'precision': 0.44}, 1: {'clf': KNeighborsClassifier(algorithm='auto', leaf_size=30, metric='manhattan',\n",
      "                     metric_params=None, n_jobs=None, n_neighbors=17, p=2,\n",
      "                     weights='distance'), 'accuracy': 0.9298245614035088, 'precision': 0.918918918918919}, 2: {'clf': KNeighborsClassifier(algorithm='auto', leaf_size=30, metric='manhattan',\n",
      "                     metric_params=None, n_jobs=None, n_neighbors=17, p=2,\n",
      "                     weights='distance'), 'accuracy': 0.9298245614035088, 'precision': 0.9444444444444444}, 3: {'clf': KNeighborsClassifier(algorithm='auto', leaf_size=30, metric='manhattan',\n",
      "                     metric_params=None, n_jobs=None, n_neighbors=17, p=2,\n",
      "                     weights='distance'), 'accuracy': 0.9122807017543859, 'precision': 0.875}, 4: {'clf': KNeighborsClassifier(algorithm='auto', leaf_size=30, metric='manhattan',\n",
      "                     metric_params=None, n_jobs=None, n_neighbors=17, p=2,\n",
      "                     weights='distance'), 'accuracy': 0.9824561403508771, 'precision': 0.9666666666666667}, 5: {'clf': KNeighborsClassifier(algorithm='auto', leaf_size=30, metric='manhattan',\n",
      "                     metric_params=None, n_jobs=None, n_neighbors=17, p=2,\n",
      "                     weights='distance'), 'accuracy': 0.9824561403508771, 'precision': 0.9782608695652174}, 6: {'clf': KNeighborsClassifier(algorithm='auto', leaf_size=30, metric='manhattan',\n",
      "                     metric_params=None, n_jobs=None, n_neighbors=17, p=2,\n",
      "                     weights='distance'), 'accuracy': 0.9473684210526315, 'precision': 0.9523809523809523}, 7: {'clf': KNeighborsClassifier(algorithm='auto', leaf_size=30, metric='manhattan',\n",
      "                     metric_params=None, n_jobs=None, n_neighbors=17, p=2,\n",
      "                     weights='distance'), 'accuracy': 0.9649122807017544, 'precision': 0.9772727272727273}, 8: {'clf': KNeighborsClassifier(algorithm='auto', leaf_size=30, metric='manhattan',\n",
      "                     metric_params=None, n_jobs=None, n_neighbors=17, p=2,\n",
      "                     weights='distance'), 'accuracy': 0.9298245614035088, 'precision': 1.0}, 9: {'clf': KNeighborsClassifier(algorithm='auto', leaf_size=30, metric='manhattan',\n",
      "                     metric_params=None, n_jobs=None, n_neighbors=17, p=2,\n",
      "                     weights='distance'), 'accuracy': 0.9821428571428571, 'precision': 0.9772727272727273}}\n"
     ]
    }
   ],
   "source": [
    "for key in clf_results:\n",
    "    \n",
    "    clf_param_metric = []\n",
    "    print('key:',key)\n",
    "    print(clf_results)\n",
    "    clf_key = clf_results[key]['clf'] \n",
    "    acc_value = clf_results[key]['accuracy']\n",
    "    prec_value = clf_results[key]['precision']\n",
    "    # recal_value = clf_results[key]['recall']\n",
    "    # clf_param_metric = [acc_value, prec_value, recal_value]\n",
    "          \n",
    "    clf_key_str = str(clf_key)\n",
    "    \n",
    "    clf_key_str = ' '.join(x.strip() for x in clf_key_str.split())\n",
    "    #clf_key_str = clf_key_str.replace('                     ',' ')  \n",
    "    #clf_key_str = clf_key_str.replace('          ',' ')\n",
    "                \n",
    "    # Validate whether classifier is already exists in the dictionary \n",
    "    if clf_key_str in clfs_metrics_Dict:\n",
    "        # if exists append the accuracy, precision and recall \n",
    "        clfs_metrics_Dict[clf_key_str].append(acc_value)\n",
    "    else:\n",
    "        # if doesn't exists create a new key for the classifier\n",
    "        clfs_metrics_Dict[clf_key_str] = [acc_value] "
   ]
  },
  {
   "cell_type": "code",
   "execution_count": 57,
   "metadata": {},
   "outputs": [
    {
     "name": "stdout",
     "output_type": "stream",
     "text": [
      "{\"KNeighborsClassifier(algorithm='auto', leaf_size=30, metric='manhattan',\\n                     metric_params=None, n_jobs=None, n_neighbors=17, p=2,\\n                     weights='distance')\": [0.7543859649122807, 0.9298245614035088, 0.9298245614035088, 0.9122807017543859, 0.9824561403508771, 0.9824561403508771, 0.9473684210526315, 0.9649122807017544, 0.9298245614035088, 0.9821428571428571], \"KNeighborsClassifier(algorithm='auto', leaf_size=30, metric='manhattan', metric_params=None, n_jobs=None, n_neighbors=17, p=2, weights='distance')\": [0.7543859649122807, 0.9298245614035088, 0.9298245614035088, 0.9122807017543859, 0.9824561403508771, 0.9824561403508771, 0.9473684210526315, 0.9649122807017544, 0.9298245614035088, 0.9821428571428571, 0.7543859649122807, 0.9298245614035088, 0.9298245614035088, 0.9122807017543859, 0.9824561403508771, 0.9824561403508771, 0.9473684210526315, 0.9649122807017544, 0.9298245614035088, 0.9821428571428571, 0.7543859649122807, 0.9298245614035088, 0.9298245614035088, 0.9122807017543859, 0.9824561403508771, 0.9824561403508771, 0.9473684210526315, 0.9649122807017544, 0.9298245614035088, 0.9821428571428571]}\n"
     ]
    }
   ],
   "source": [
    "print(clfs_metrics_Dict)"
   ]
  },
  {
   "cell_type": "code",
   "execution_count": 53,
   "metadata": {},
   "outputs": [],
   "source": [
    "# Sort based on mean accuracy values  \n",
    "clfs_metrics_list_sorted = sorted(clfs_metrics_Dict.items(), key=lambda item: statistics.median(item[1]), reverse=True)"
   ]
  },
  {
   "cell_type": "code",
   "execution_count": 54,
   "metadata": {},
   "outputs": [],
   "source": [
    "# Create separate list for accuracy, classifier and mean accuracy\n",
    "Acc_list, Classifier, Acc_median = ([] for i in range(3))\n",
    "\n",
    "for i in clfs_metrics_list_sorted:\n",
    "    Classifier.append(i[0])\n",
    "    Acc_list.append(i[1])\n",
    "    Acc_median.append(statistics.mean(i[1]))"
   ]
  },
  {
   "cell_type": "code",
   "execution_count": 55,
   "metadata": {},
   "outputs": [
    {
     "ename": "ValueError",
     "evalue": "Neither the `x` nor `y` variable appears to be numeric.",
     "output_type": "error",
     "traceback": [
      "\u001b[1;31m---------------------------------------------------------------------------\u001b[0m",
      "\u001b[1;31mValueError\u001b[0m                                Traceback (most recent call last)",
      "\u001b[1;32m<ipython-input-55-9262574cbedf>\u001b[0m in \u001b[0;36m<module>\u001b[1;34m\u001b[0m\n\u001b[0;32m      2\u001b[0m \u001b[0mfig\u001b[0m\u001b[1;33m,\u001b[0m \u001b[0max\u001b[0m \u001b[1;33m=\u001b[0m \u001b[0mplt\u001b[0m\u001b[1;33m.\u001b[0m\u001b[0msubplots\u001b[0m\u001b[1;33m(\u001b[0m\u001b[0mfigsize\u001b[0m\u001b[1;33m=\u001b[0m\u001b[0mfig_dims\u001b[0m\u001b[1;33m)\u001b[0m\u001b[1;33m\u001b[0m\u001b[1;33m\u001b[0m\u001b[0m\n\u001b[0;32m      3\u001b[0m \u001b[0mfig\u001b[0m\u001b[1;33m.\u001b[0m\u001b[0msubplots_adjust\u001b[0m\u001b[1;33m(\u001b[0m\u001b[0mleft\u001b[0m\u001b[1;33m=\u001b[0m\u001b[1;36m0.125\u001b[0m\u001b[1;33m,\u001b[0m \u001b[0mright\u001b[0m\u001b[1;33m=\u001b[0m\u001b[1;36m0.95\u001b[0m\u001b[1;33m,\u001b[0m \u001b[0mtop\u001b[0m\u001b[1;33m=\u001b[0m\u001b[1;36m0.9\u001b[0m\u001b[1;33m,\u001b[0m \u001b[0mbottom\u001b[0m\u001b[1;33m=\u001b[0m\u001b[1;36m0.25\u001b[0m\u001b[1;33m)\u001b[0m\u001b[1;33m\u001b[0m\u001b[1;33m\u001b[0m\u001b[0m\n\u001b[1;32m----> 4\u001b[1;33m \u001b[0max\u001b[0m \u001b[1;33m=\u001b[0m \u001b[0msns\u001b[0m\u001b[1;33m.\u001b[0m\u001b[0mboxplot\u001b[0m\u001b[1;33m(\u001b[0m\u001b[0mx\u001b[0m\u001b[1;33m=\u001b[0m\u001b[0mAcc_list\u001b[0m\u001b[1;33m,\u001b[0m\u001b[0my\u001b[0m\u001b[1;33m=\u001b[0m\u001b[0mClassifier\u001b[0m\u001b[1;33m)\u001b[0m\u001b[1;33m\u001b[0m\u001b[1;33m\u001b[0m\u001b[0m\n\u001b[0m\u001b[0;32m      5\u001b[0m \u001b[0max\u001b[0m\u001b[1;33m.\u001b[0m\u001b[0mset\u001b[0m\u001b[1;33m(\u001b[0m\u001b[0mxlabel\u001b[0m\u001b[1;33m=\u001b[0m\u001b[1;34m'Percent Accuracy per k-fold'\u001b[0m\u001b[1;33m,\u001b[0m \u001b[0mylabel\u001b[0m\u001b[1;33m=\u001b[0m\u001b[1;34m'Classifier/Hyper Parameters'\u001b[0m\u001b[1;33m)\u001b[0m\u001b[1;33m\u001b[0m\u001b[1;33m\u001b[0m\u001b[0m\n\u001b[0;32m      6\u001b[0m \u001b[0max\u001b[0m\u001b[1;33m.\u001b[0m\u001b[0mset_title\u001b[0m\u001b[1;33m(\u001b[0m\u001b[1;34m\"Accuracy Score vs Classification/Hyper-Parameters\\nBest median Accuracy Score: {} \"\u001b[0m\u001b[1;33m.\u001b[0m\u001b[0mformat\u001b[0m\u001b[1;33m(\u001b[0m\u001b[0mround\u001b[0m\u001b[1;33m(\u001b[0m\u001b[0mAcc_median\u001b[0m\u001b[1;33m[\u001b[0m\u001b[1;36m0\u001b[0m\u001b[1;33m]\u001b[0m\u001b[1;33m,\u001b[0m\u001b[1;36m4\u001b[0m\u001b[1;33m)\u001b[0m\u001b[1;33m)\u001b[0m\u001b[1;33m)\u001b[0m\u001b[1;33m\u001b[0m\u001b[1;33m\u001b[0m\u001b[0m\n",
      "\u001b[1;32m~\\anaconda3\\lib\\site-packages\\seaborn\\categorical.py\u001b[0m in \u001b[0;36mboxplot\u001b[1;34m(x, y, hue, data, order, hue_order, orient, color, palette, saturation, width, dodge, fliersize, linewidth, whis, ax, **kwargs)\u001b[0m\n\u001b[0;32m   2239\u001b[0m     plotter = _BoxPlotter(x, y, hue, data, order, hue_order,\n\u001b[0;32m   2240\u001b[0m                           \u001b[0morient\u001b[0m\u001b[1;33m,\u001b[0m \u001b[0mcolor\u001b[0m\u001b[1;33m,\u001b[0m \u001b[0mpalette\u001b[0m\u001b[1;33m,\u001b[0m \u001b[0msaturation\u001b[0m\u001b[1;33m,\u001b[0m\u001b[1;33m\u001b[0m\u001b[1;33m\u001b[0m\u001b[0m\n\u001b[1;32m-> 2241\u001b[1;33m                           width, dodge, fliersize, linewidth)\n\u001b[0m\u001b[0;32m   2242\u001b[0m \u001b[1;33m\u001b[0m\u001b[0m\n\u001b[0;32m   2243\u001b[0m     \u001b[1;32mif\u001b[0m \u001b[0max\u001b[0m \u001b[1;32mis\u001b[0m \u001b[1;32mNone\u001b[0m\u001b[1;33m:\u001b[0m\u001b[1;33m\u001b[0m\u001b[1;33m\u001b[0m\u001b[0m\n",
      "\u001b[1;32m~\\anaconda3\\lib\\site-packages\\seaborn\\categorical.py\u001b[0m in \u001b[0;36m__init__\u001b[1;34m(self, x, y, hue, data, order, hue_order, orient, color, palette, saturation, width, dodge, fliersize, linewidth)\u001b[0m\n\u001b[0;32m    441\u001b[0m                  width, dodge, fliersize, linewidth):\n\u001b[0;32m    442\u001b[0m \u001b[1;33m\u001b[0m\u001b[0m\n\u001b[1;32m--> 443\u001b[1;33m         \u001b[0mself\u001b[0m\u001b[1;33m.\u001b[0m\u001b[0mestablish_variables\u001b[0m\u001b[1;33m(\u001b[0m\u001b[0mx\u001b[0m\u001b[1;33m,\u001b[0m \u001b[0my\u001b[0m\u001b[1;33m,\u001b[0m \u001b[0mhue\u001b[0m\u001b[1;33m,\u001b[0m \u001b[0mdata\u001b[0m\u001b[1;33m,\u001b[0m \u001b[0morient\u001b[0m\u001b[1;33m,\u001b[0m \u001b[0morder\u001b[0m\u001b[1;33m,\u001b[0m \u001b[0mhue_order\u001b[0m\u001b[1;33m)\u001b[0m\u001b[1;33m\u001b[0m\u001b[1;33m\u001b[0m\u001b[0m\n\u001b[0m\u001b[0;32m    444\u001b[0m         \u001b[0mself\u001b[0m\u001b[1;33m.\u001b[0m\u001b[0mestablish_colors\u001b[0m\u001b[1;33m(\u001b[0m\u001b[0mcolor\u001b[0m\u001b[1;33m,\u001b[0m \u001b[0mpalette\u001b[0m\u001b[1;33m,\u001b[0m \u001b[0msaturation\u001b[0m\u001b[1;33m)\u001b[0m\u001b[1;33m\u001b[0m\u001b[1;33m\u001b[0m\u001b[0m\n\u001b[0;32m    445\u001b[0m \u001b[1;33m\u001b[0m\u001b[0m\n",
      "\u001b[1;32m~\\anaconda3\\lib\\site-packages\\seaborn\\categorical.py\u001b[0m in \u001b[0;36mestablish_variables\u001b[1;34m(self, x, y, hue, data, orient, order, hue_order, units)\u001b[0m\n\u001b[0;32m    153\u001b[0m \u001b[1;33m\u001b[0m\u001b[0m\n\u001b[0;32m    154\u001b[0m             \u001b[1;31m# Figure out the plotting orientation\u001b[0m\u001b[1;33m\u001b[0m\u001b[1;33m\u001b[0m\u001b[1;33m\u001b[0m\u001b[0m\n\u001b[1;32m--> 155\u001b[1;33m             \u001b[0morient\u001b[0m \u001b[1;33m=\u001b[0m \u001b[0mself\u001b[0m\u001b[1;33m.\u001b[0m\u001b[0minfer_orient\u001b[0m\u001b[1;33m(\u001b[0m\u001b[0mx\u001b[0m\u001b[1;33m,\u001b[0m \u001b[0my\u001b[0m\u001b[1;33m,\u001b[0m \u001b[0morient\u001b[0m\u001b[1;33m)\u001b[0m\u001b[1;33m\u001b[0m\u001b[1;33m\u001b[0m\u001b[0m\n\u001b[0m\u001b[0;32m    156\u001b[0m \u001b[1;33m\u001b[0m\u001b[0m\n\u001b[0;32m    157\u001b[0m             \u001b[1;31m# Option 2a:\u001b[0m\u001b[1;33m\u001b[0m\u001b[1;33m\u001b[0m\u001b[1;33m\u001b[0m\u001b[0m\n",
      "\u001b[1;32m~\\anaconda3\\lib\\site-packages\\seaborn\\categorical.py\u001b[0m in \u001b[0;36minfer_orient\u001b[1;34m(self, x, y, orient)\u001b[0m\n\u001b[0;32m    360\u001b[0m         \u001b[1;32melif\u001b[0m \u001b[0mis_not_numeric\u001b[0m\u001b[1;33m(\u001b[0m\u001b[0my\u001b[0m\u001b[1;33m)\u001b[0m\u001b[1;33m:\u001b[0m\u001b[1;33m\u001b[0m\u001b[1;33m\u001b[0m\u001b[0m\n\u001b[0;32m    361\u001b[0m             \u001b[1;32mif\u001b[0m \u001b[0mis_not_numeric\u001b[0m\u001b[1;33m(\u001b[0m\u001b[0mx\u001b[0m\u001b[1;33m)\u001b[0m\u001b[1;33m:\u001b[0m\u001b[1;33m\u001b[0m\u001b[1;33m\u001b[0m\u001b[0m\n\u001b[1;32m--> 362\u001b[1;33m                 \u001b[1;32mraise\u001b[0m \u001b[0mValueError\u001b[0m\u001b[1;33m(\u001b[0m\u001b[0mno_numeric\u001b[0m\u001b[1;33m)\u001b[0m\u001b[1;33m\u001b[0m\u001b[1;33m\u001b[0m\u001b[0m\n\u001b[0m\u001b[0;32m    363\u001b[0m             \u001b[1;32melse\u001b[0m\u001b[1;33m:\u001b[0m\u001b[1;33m\u001b[0m\u001b[1;33m\u001b[0m\u001b[0m\n\u001b[0;32m    364\u001b[0m                 \u001b[1;32mreturn\u001b[0m \u001b[1;34m\"h\"\u001b[0m\u001b[1;33m\u001b[0m\u001b[1;33m\u001b[0m\u001b[0m\n",
      "\u001b[1;31mValueError\u001b[0m: Neither the `x` nor `y` variable appears to be numeric."
     ]
    },
    {
     "data": {
      "image/png": "[encoded data removed]",
      "text/plain": [
       "<Figure size 1080x259.2 with 1 Axes>"
      ]
     },
     "metadata": {
      "needs_background": "light"
     },
     "output_type": "display_data"
    }
   ],
   "source": [
    "fig_dims = (15, len(clfs_metrics_list_sorted)*1.8)\n",
    "fig, ax = plt.subplots(figsize=fig_dims)\n",
    "fig.subplots_adjust(left=0.125, right=0.95, top=0.9, bottom=0.25)\n",
    "ax = sns.boxplot(x=Acc_list,y=Classifier)\n",
    "ax.set(xlabel='Percent Accuracy per k-fold', ylabel='Classifier/Hyper Parameters')\n",
    "ax.set_title(\"Accuracy Score vs Classification/Hyper-Parameters\\nBest median Accuracy Score: {} \".format(round(Acc_median[0],4)))"
   ]
  },
  {
   "cell_type": "code",
   "execution_count": 13,
   "metadata": {},
   "outputs": [
    {
     "name": "stdout",
     "output_type": "stream",
     "text": [
      "Fitting 10 folds for each of 36 candidates, totalling 360 fits\n"
     ]
    },
    {
     "name": "stderr",
     "output_type": "stream",
     "text": [
      "[Parallel(n_jobs=-1)]: Using backend LokyBackend with 8 concurrent workers.\n",
      "[Parallel(n_jobs=-1)]: Done  34 tasks      | elapsed:    6.6s\n",
      "[Parallel(n_jobs=-1)]: Done 184 tasks      | elapsed:   23.2s\n",
      "[Parallel(n_jobs=-1)]: Done 360 out of 360 | elapsed:   49.9s finished\n"
     ]
    }
   ],
   "source": [
    "# Using GridSearchCV\n",
    "cv = KFold(n_splits=10, random_state=1234)\n",
    "\n",
    "# define parameters       \n",
    "max_depth_RF = [5, 10, 15, 20]\n",
    "min_samples_leaf_RF = [3, 4, 5]\n",
    "n_estimators_RF =  [100, 200, 300]\n",
    "\n",
    "# define grid search\n",
    "param_grid_RF = dict(n_estimators=n_estimators_RF, max_depth=max_depth_RF, min_samples_leaf=min_samples_leaf_RF) \n",
    "\n",
    "RF = RandomForestClassifier()\n",
    "\n",
    "grid_search_RF = GridSearchCV(estimator=RF, param_grid=param_grid_RF, n_jobs=-1, cv=cv, \n",
    "                               scoring='accuracy',error_score=0, verbose=1)\n",
    "\n",
    "grid_result_RF = grid_search_RF.fit(X, Y)"
   ]
  },
  {
   "cell_type": "code",
   "execution_count": 14,
   "metadata": {},
   "outputs": [
    {
     "name": "stdout",
     "output_type": "stream",
     "text": [
      "Best: 0.957863 using {'max_depth': 15, 'min_samples_leaf': 3, 'n_estimators': 300}\n"
     ]
    }
   ],
   "source": [
    "print(\"Best: %f using %s\" % (grid_result_RF.best_score_, grid_result_RF.best_params_))\n",
    "means = grid_result_RF.cv_results_['mean_test_score']\n",
    "stds = grid_result_RF.cv_results_['std_test_score']\n",
    "params = grid_result_RF.cv_results_['params']"
   ]
  },
  {
   "cell_type": "code",
   "execution_count": 15,
   "metadata": {},
   "outputs": [],
   "source": [
    "import csv\n",
    "writer = csv.writer(open(\"file1.csv\", 'w'))\n",
    "for row in clfs_metrics_list_sorted:\n",
    "    writer.writerow(row)"
   ]
  },
  {
   "cell_type": "code",
   "execution_count": 16,
   "metadata": {},
   "outputs": [],
   "source": [
    "with open('test.txt', 'w') as f:\n",
    "    for row in clfs_metrics_list_sorted:\n",
    "        f.write(\"%s\\n\" % str(row))"
   ]
  },
  {
   "cell_type": "code",
   "execution_count": null,
   "metadata": {},
   "outputs": [],
   "source": []
  }
 ],
 "metadata": {
  "kernelspec": {
   "display_name": "Python 3",
   "language": "python",
   "name": "python3"
  },
  "language_info": {
   "codemirror_mode": {
    "name": "ipython",
    "version": 3
   },
   "file_extension": ".py",
   "mimetype": "text/x-python",
   "name": "python",
   "nbconvert_exporter": "python",
   "pygments_lexer": "ipython3",
   "version": "3.7.6"
  }
 },
 "nbformat": 4,
 "nbformat_minor": 4
}
